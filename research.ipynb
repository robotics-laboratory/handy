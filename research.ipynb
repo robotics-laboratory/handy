{
 "cells": [
  {
   "cell_type": "markdown",
   "metadata": {},
   "source": [
    "# Overview of triangulation precision dependencies\n",
    "\n",
    "This research is a part of project \"Handy\" that is conducted by HSE Robotics Groups.\n",
    "The aims of this research are the following:\n",
    "- to determine the best placement of cameras around the table\n",
    "- to measure precision fluctuations caused by various center-determing algorithms, segmentation errors and FOV\n",
    "\n",
    "Let us assume that intrinsic parameters of the cameras are known to us with ideal precision. Also, cameras' positions relative to each other \n",
    "(parameters of stereo calibration) are also known with maximum precision."
   ]
  },
  {
   "cell_type": "code",
   "execution_count": 1,
   "metadata": {},
   "outputs": [],
   "source": [
    "import numpy as np\n",
    "import matplotlib.pyplot as plt\n",
    "import cv2\n",
    "from scipy.spatial.transform import Rotation\n",
    "from scipy.ndimage import center_of_mass\n",
    "\n",
    "from typing import Tuple, List"
   ]
  },
  {
   "cell_type": "code",
   "execution_count": 2,
   "metadata": {},
   "outputs": [],
   "source": [
    "# let us introduce intrinsic parameters and assume that they provide zero reprojection error for an arbitrary image-world correlation\n",
    "\n",
    "IMAGE_SIZE = (1200, 1920)\n",
    "K_1 = np.array(\n",
    "    [\n",
    "        672.2824725267757,\n",
    "        0,\n",
    "        984.0472159818853,\n",
    "        0,\n",
    "        672.6886411532304,\n",
    "        602.96669930345,\n",
    "        0,\n",
    "        0,\n",
    "        1,\n",
    "    ]\n",
    ").reshape((3, 3))\n",
    "distortion_coefs_1 = np.array(\n",
    "    [\n",
    "        -0.09715103386082896,\n",
    "        0.06788948036532018,\n",
    "        -0.0007157453506997161,\n",
    "        0.0003048354358359307,\n",
    "        -0.003636308978789861,\n",
    "    ]\n",
    ")\n",
    "K_2 = np.array(\n",
    "    [\n",
    "        685.7143789189881,\n",
    "        0,\n",
    "        991.0247637161314,\n",
    "        0,\n",
    "        686.3020333004097,\n",
    "        601.2442243349392,\n",
    "        0,\n",
    "        0,\n",
    "        1,\n",
    "    ]\n",
    ").reshape((3, 3))\n",
    "distortion_coefs_2 = np.array(\n",
    "    [\n",
    "        -0.09781628655937251,\n",
    "        0.07153618281495966,\n",
    "        -0.001066517414175782,\n",
    "        0.0004679942401339674,\n",
    "        -0.003645360450147547,\n",
    "    ]\n",
    ")\n",
    "# reference:\n",
    "# https://github.com/robotics-laboratory/handy/blob/table-dataset-1/datasets/TableOrange2msRecord_22_04/camera_params.yaml\n",
    "stereo_cam_rotation = [0.01175419895518242, 2.170836441913732, 2.19333242876324]\n",
    "stereo_cam_translation = [-0.06677747450343367, -1.174973690204363, 1.140354306665756]\n",
    "\n",
    "# other constant and measurements\n",
    "TABLE_LENGTH = 2.74\n",
    "TABLE_WIDTH = 1.525"
   ]
  },
  {
   "cell_type": "code",
   "execution_count": 3,
   "metadata": {},
   "outputs": [],
   "source": [
    "from typing import Any\n",
    "\n",
    "\n",
    "class Transformation:\n",
    "    def __init__(self, R, t):\n",
    "        self.R = R\n",
    "        self.t = t.reshape((3, 1))\n",
    "        self.R_inv = np.linalg.inv(self.R)\n",
    "\n",
    "    def __call__(self, point):\n",
    "        return self.R @ point + self.t\n",
    "    \n",
    "    def __mul__(self, other):\n",
    "        return Transformation(self.R @ other.R, self.R @ other.t + self.t)\n",
    "\n",
    "    def transform(self, point):\n",
    "        return self(point)\n",
    "\n",
    "    def inverse_transform(self, point):\n",
    "        return self.R_inv @ (point - self.t)\n",
    "\n",
    "    # right transformation is applied first\n",
    "    def __mult__(self, other):\n",
    "        return Transformation(self.R @ other.R, self.t + other.t)\n",
    "    \n",
    "\n",
    "class Image:\n",
    "    def __init__(self, camera_matrix, camera_transformation, distortion_coefs, image_size=IMAGE_SIZE):\n",
    "        self.camera_matrix = camera_matrix\n",
    "        self.camera_transformation = camera_transformation\n",
    "        self.distortion_coefs = distortion_coefs\n",
    "        self.image_size = image_size\n",
    "\n",
    "    def normilise_image_point(self, point):\n",
    "        x_normalised = (point[0] - self.camera_matrix[0, 2]) / self.camera_matrix[0, 0]\n",
    "        y_normalised = (point[1] - self.camera_matrix[1, 2]) / self.camera_matrix[1, 1]\n",
    "        return np.array([x_normalised, y_normalised, 1]).reshape(3, 1)\n",
    "\n",
    "    # in world coordinates\n",
    "    def project_point_to_image(self, point):\n",
    "        transformed_point = self.camera_transformation(point)\n",
    "        transformed_point = transformed_point / transformed_point[2]\n",
    "        projected_point = self.camera_matrix @ transformed_point\n",
    "        return projected_point\n",
    "    \n",
    "    def project_points_to_image(self, points):\n",
    "        return np.array([self.project_point_to_image(point) for point in points])\n",
    "\n",
    "    def project_ball_to_image(self, \n",
    "        center, radius: int) -> np.ndarray:\n",
    "        center = center.reshape((3, 1))\n",
    "        camera_matrix_inv = np.linalg.inv(self.camera_matrix)\n",
    "\n",
    "        # projecting center and some edge point to approximate radius after projection\n",
    "        projected_center = self.project_point_to_image(center)\n",
    "        projected_center /= projected_center[2]\n",
    "        edge_point = center + np.array([radius, 0, 0]).reshape((3, 1))\n",
    "        projected_edge_point = self.project_point_to_image(edge_point)\n",
    "        projected_edge_point /= projected_edge_point[2]\n",
    "        approx_projected_radius = np.linalg.norm(\n",
    "            projected_edge_point - projected_center, ord=2\n",
    "        )\n",
    "\n",
    "        # calculating bounding box for calculations with 1.5 margin\n",
    "        x_start = int(max(0, projected_center[0].item() - 1.5 * approx_projected_radius))\n",
    "        y_start = int(max(0, projected_center[1].item() - 1.5 * approx_projected_radius))\n",
    "        x_stop = int(\n",
    "            min(IMAGE_SIZE[1], projected_center[0].item() + 1.5 * approx_projected_radius)\n",
    "        )\n",
    "        y_stop = int(\n",
    "            min(IMAGE_SIZE[0], projected_center[1].item() + 1.5 * approx_projected_radius)\n",
    "        )\n",
    "\n",
    "        image = np.zeros(self.image_size)\n",
    "        for x in range(x_start, x_stop):\n",
    "            for y in range(y_start, y_stop):\n",
    "                # back project image point\n",
    "                world_ray = camera_matrix_inv @ np.array([x, y, 1]).reshape((3, 1))\n",
    "                # measure distance from the sphere center\n",
    "                distance = np.linalg.norm(\n",
    "                    np.cross(world_ray.flatten(), center.flatten()), ord=2\n",
    "                ) / np.linalg.norm(world_ray, ord=2)\n",
    "                # if back-projected ray intersects with the sphere, paint the pixel in the mask\n",
    "                if distance <= radius:\n",
    "                    image[y, x] = 1\n",
    "        return image\n",
    "\n"
   ]
  },
  {
   "cell_type": "markdown",
   "metadata": {},
   "source": [
    "Visually testing `Image` class"
   ]
  },
  {
   "cell_type": "code",
   "execution_count": 28,
   "metadata": {},
   "outputs": [],
   "source": [
    "import plotly.graph_objects as go\n",
    "import numpy as np\n",
    "\n",
    "def display_plane(normal, size, origin):\n",
    "    \"\"\"Display a plane in the shape of a rectangle.\n",
    "    \n",
    "    Args:\n",
    "        normal (tuple): Normal vector of the plane (nx, ny, nz).\n",
    "        size (tuple): Size of the rectangle (width, height).\n",
    "        origin (tuple): Origin of the rectangle (x, y, z).\n",
    "    \"\"\"\n",
    "    normal = np.array(normal) / np.linalg.norm(normal)  # Normalize normal vector\n",
    "    u = np.array([1, 0, 0]) if abs(normal[0]) < 0.9 else np.array([0, 1, 0])\n",
    "    v = np.cross(normal, u)\n",
    "    u = np.cross(v, normal)\n",
    "    u, v = u / np.linalg.norm(u), v / np.linalg.norm(v)\n",
    "    \n",
    "    w, h = size\n",
    "    corners = np.array([\n",
    "        origin + w/2 * u + h/2 * v,\n",
    "        origin - w/2 * u + h/2 * v,\n",
    "        origin - w/2 * u - h/2 * v,\n",
    "        origin + w/2 * u - h/2 * v,\n",
    "    ])\n",
    "    \n",
    "    x, y, z = corners[:, 0], corners[:, 1], corners[:, 2]\n",
    "    \n",
    "    return go.Mesh3d(\n",
    "        x=[*x, x[0]], y=[*y, y[0]], z=[*z, z[0]],\n",
    "        color='lightblue', opacity=0.5, alphahull=0\n",
    "    )\n",
    "\n",
    "def display_ball(position, radius, color):\n",
    "    \"\"\"Display a ball (sphere).\n",
    "    \n",
    "    Args:\n",
    "        position (tuple): (x, y, z) coordinates of the center.\n",
    "        radius (float): Radius of the sphere.\n",
    "        color (str): Color of the sphere.\n",
    "    \"\"\"\n",
    "    u, v = np.mgrid[0:2*np.pi:20j, 0:np.pi:10j]\n",
    "    x = position[0] + radius * np.cos(u) * np.sin(v)\n",
    "    y = position[1] + radius * np.sin(u) * np.sin(v)\n",
    "    z = position[2] + radius * np.cos(v)\n",
    "    \n",
    "    return go.Surface(x=x, y=y, z=z, colorscale=[[0, color], [1, color]], showscale=False)\n",
    "\n",
    "def display_parallelepiped(size, direction, origin=(0,0,0)):\n",
    "    \"\"\"Display a parallelepiped.\n",
    "    \n",
    "    Args:\n",
    "        size (tuple): (width, height, depth).\n",
    "        direction (tuple): A vector representing the \"facing\" direction.\n",
    "        origin (tuple): Bottom-left corner of the parallelepiped.\n",
    "    \"\"\"\n",
    "    direction = np.array(direction) / np.linalg.norm(direction)\n",
    "    u = np.array([1, 0, 0]) if abs(direction[0]) < 0.9 else np.array([0, 1, 0])\n",
    "    v = np.cross(direction, u)\n",
    "    u = np.cross(v, direction)\n",
    "    u, v = u / np.linalg.norm(u), v / np.linalg.norm(v)\n",
    "\n",
    "    w, h, d = size\n",
    "    corners = np.array([\n",
    "        origin,\n",
    "        origin + w * u,\n",
    "        origin + h * v,\n",
    "        origin + d * direction,\n",
    "        origin + w * u + h * v,\n",
    "        origin + w * u + d * direction,\n",
    "        origin + h * v + d * direction,\n",
    "        origin + w * u + h * v + d * direction\n",
    "    ])\n",
    "    \n",
    "    x, y, z = corners[:, 0], corners[:, 1], corners[:, 2]\n",
    "\n",
    "    faces = [\n",
    "        [0, 1, 4, 2],  # Bottom\n",
    "        [0, 1, 5, 3],  # Side\n",
    "        [1, 4, 7, 5],  # Side\n",
    "        [2, 4, 7, 6],  # Side\n",
    "        [0, 2, 6, 3],  # Side\n",
    "        [3, 5, 7, 6]   # Top\n",
    "    ]\n",
    "\n",
    "    return go.Mesh3d(\n",
    "        x=x, y=y, z=z,\n",
    "        i=[face[0] for face in faces],\n",
    "        j=[face[1] for face in faces],\n",
    "        k=[face[2] for face in faces],\n",
    "        color=\"orange\", opacity=0.7\n",
    "    )\n",
    "\n",
    "def display_camera(position, direction, fov=60, aspect_ratio=1.5, depth=2.0, color=\"blue\"):\n",
    "    \"\"\"\n",
    "    Display a camera as a 3D pyramid.\n",
    "    \n",
    "    Args:\n",
    "        position (tuple): (x, y, z) world position of the camera.\n",
    "        direction (tuple): (dx, dy, dz) unit vector pointing in the direction of the camera.\n",
    "        fov (float): Field of view in degrees (controls the width of the base).\n",
    "        aspect_ratio (float): Aspect ratio (width/height of base).\n",
    "        depth (float): Depth of the pyramid (distance from camera to base).\n",
    "        color (str): Color of the camera pyramid.\n",
    "    \"\"\"\n",
    "    # Normalize the direction vector\n",
    "    direction = np.array(direction) / np.linalg.norm(direction)\n",
    "\n",
    "    # Compute right and up vectors to construct the base\n",
    "    up = np.array([0, 0, 1]) if abs(direction[2]) < 0.9 else np.array([1, 0, 0])\n",
    "    right = np.cross(direction, up)\n",
    "    up = np.cross(right, direction)\n",
    "    \n",
    "    right = right / np.linalg.norm(right)\n",
    "    up = up / np.linalg.norm(up)\n",
    "\n",
    "    # Compute base size using FOV\n",
    "    angle = np.radians(fov / 2)\n",
    "    base_half_width = np.tan(angle) * depth\n",
    "    base_half_height = base_half_width / aspect_ratio\n",
    "\n",
    "    # Compute base corners\n",
    "    base_center = position + depth * direction\n",
    "    corners = np.array([\n",
    "        base_center + base_half_width * right + base_half_height * up,\n",
    "        base_center - base_half_width * right + base_half_height * up,\n",
    "        base_center - base_half_width * right - base_half_height * up,\n",
    "        base_center + base_half_width * right - base_half_height * up,\n",
    "    ])\n",
    "    \n",
    "    # Pyramid vertices\n",
    "    vertices = np.vstack([position, corners])\n",
    "\n",
    "    # Pyramid faces (indices)\n",
    "    faces = [\n",
    "        [0, 1, 2],  # Side 1\n",
    "        [0, 2, 3],  # Side 2\n",
    "        [0, 3, 4],  # Side 3\n",
    "        [0, 4, 1],  # Side 4\n",
    "        [1, 2, 3, 4]  # Base\n",
    "    ]\n",
    "\n",
    "    # Create Mesh3D\n",
    "    camera_mesh = go.Mesh3d(\n",
    "        x=vertices[:, 0], y=vertices[:, 1], z=vertices[:, 2],\n",
    "        i=[face[0] for face in faces],\n",
    "        j=[face[1] for face in faces],\n",
    "        k=[face[2] for face in faces],\n",
    "        color=color, opacity=0.5\n",
    "    )\n",
    "\n",
    "    # Create direction line\n",
    "    direction_line = go.Scatter3d(\n",
    "        x=[position[0], base_center[0]],\n",
    "        y=[position[1], base_center[1]],\n",
    "        z=[position[2], base_center[2]],\n",
    "        mode=\"lines\",\n",
    "        line=dict(color=color, width=4),\n",
    "        name=\"Camera Direction\"\n",
    "    )\n",
    "\n",
    "    return [camera_mesh, direction_line]\n",
    "\n",
    "# # Create figure\n",
    "# fig = go.Figure()\n",
    "\n",
    "# # Add two cameras\n",
    "# fig.add_traces(display_camera(position=(0, 0, 1), direction=(1, 1, -0.2), fov=60, color=\"red\"))\n",
    "# fig.add_traces(display_camera(position=(2, 2, 1), direction=(-1, -1, -0.2), fov=45, color=\"blue\"))\n",
    "\n",
    "# fig.update_layout(scene=dict(aspectmode=\"data\"))\n",
    "# fig.show()\n",
    "\n",
    "# # Create figure\n",
    "# fig = go.Figure()\n",
    "\n",
    "# # Add plane\n",
    "# fig.add_trace(display_plane((0, 0, 1), (2, 1), (0, 0, 0)))\n",
    "\n",
    "# # Add ball\n",
    "# fig.add_trace(display_ball((0.5, 0.5, 0.5), 0.2, \"red\"))\n",
    "\n",
    "# # Add parallelepiped\n",
    "# fig.add_trace(display_parallelepiped((1, 0.5, 0.3), (1, 1, 1), (1, 1, 0)))\n",
    "\n",
    "# fig.update_layout(scene=dict(aspectmode=\"data\"))\n",
    "# fig.show()\n"
   ]
  },
  {
   "cell_type": "code",
   "execution_count": 37,
   "metadata": {},
   "outputs": [],
   "source": [
    "import dash\n",
    "from dash import dcc, html\n",
    "from dash.dependencies import Input, Output\n",
    "import plotly.graph_objects as go\n",
    "import plotly.express as px\n",
    "\n",
    "class StereoScene:\n",
    "    def __init__(self, left_camera: Image, right_camera: Image):\n",
    "        self.left_camera = left_camera\n",
    "        self.right_camera = right_camera\n",
    "\n",
    "    def project_ball_to_images(self, center, radius):\n",
    "        left_image = self.left_camera.project_ball_to_image(center, radius)\n",
    "        right_image = self.right_camera.project_ball_to_image(center, radius)\n",
    "        return left_image, right_image\n",
    "    \n",
    "    def launch_3D_scene(self):\n",
    "        app = dash.Dash(__name__)\n",
    "\n",
    "        app.layout = html.Div([\n",
    "            dcc.Graph(id='3d-scene'),\n",
    "            dcc.Graph(id='left-image'),\n",
    "            dcc.Graph(id='right-image'),\n",
    "            html.Label('Ball X Position'),\n",
    "            dcc.Slider(id='ball-x', min=-2, max=2, step=0.05, value=0),\n",
    "            html.Label('Ball Y Position'),\n",
    "            dcc.Slider(id='ball-y', min=-2, max=2, step=0.05, value=0),\n",
    "            html.Label('Ball Z Position'),\n",
    "            dcc.Slider(id='ball-z', min=0, max=3, step=0.05, value=1),\n",
    "        ])\n",
    "\n",
    "        @app.callback(\n",
    "            [Output('3d-scene', 'figure'),\n",
    "             Output('left-image', 'figure'),\n",
    "             Output('right-image', 'figure')],\n",
    "            [Input('ball-x', 'value'),\n",
    "             Input('ball-y', 'value'),\n",
    "             Input('ball-z', 'value')]\n",
    "        )\n",
    "        def update_scene(ball_x, ball_y, ball_z):\n",
    "            ball_center = np.array([ball_x, ball_y, ball_z]).reshape((3, 1))\n",
    "            left_image, right_image = self.project_ball_to_images(ball_center, 0.04)\n",
    "            \n",
    "            fig_3d = go.Figure()\n",
    "            fig_3d.add_trace(display_plane((0, 0, 1), (TABLE_LENGTH, TABLE_WIDTH), (0, 0, 0)))\n",
    "            fig_3d.add_trace(display_ball((ball_x, ball_y, ball_z), 0.04, \"green\"))\n",
    "\n",
    "            fig_3d.add_trace(go.Cone(x=[0], y=[0], z=[0], u=[0], v=[0], w=[1], showscale=False, \n",
    "                                     sizemode=\"absolute\", sizeref=0.1, anchor=\"tip\", colorscale=[[0, \"red\"], [1, \"red\"]]))\n",
    "\n",
    "            second_camera_direction = self.right_camera.camera_transformation(np.array([0, 0, 1])).flatten().tolist()\n",
    "            fig_3d.add_trace(go.Cone(x=[0], y=[0], z=[0], u=[second_camera_direction[0]], v=[second_camera_direction[1]], w=[second_camera_direction[2]], \n",
    "                                     sizemode=\"absolute\", sizeref=0.1, anchor=\"tip\",\n",
    "                                     colorscale=[[0, \"blue\"], [1, \"blue\"]]))\n",
    "            \n",
    "            fig_left = go.Figure(data=go.Heatmap(z=left_image))\n",
    "            fig_right = go.Figure(data=go.Heatmap(z=right_image))\n",
    "            \n",
    "            return fig_3d, fig_left, fig_right\n",
    "\n",
    "        return app\n",
    "\n",
    "    # def project_points_to_image(self, points):\n",
    "    #     return self.left_camera.project_points_to_image(points), self.right_camera.project_points_to_image(points)\n",
    "\n",
    "    # def project_point_to_image(self, point):\n",
    "    #     return self.left_camera.project_point_to_image(point), self.right_camera.project_point_to_image(point)\n",
    "\n",
    "    # def project_point_to_world(self, left_point, right_point):\n",
    "    #     left_point = self.left_camera.camera_transformation.inverse_transform(left_point)\n",
    "    #     right_point = self.right_camera.camera_transformation.inverse_transform(right_point)\n",
    "    #     return left_point, right_point\n",
    "\n",
    "    # def project_points_to_world(self, left_points, right_points):\n",
    "    #     return self"
   ]
  },
  {
   "cell_type": "code",
   "execution_count": 40,
   "metadata": {},
   "outputs": [
    {
     "data": {
      "text/html": [
       "\n",
       "        <iframe\n",
       "            width=\"100%\"\n",
       "            height=\"650\"\n",
       "            src=\"http://localhost:8060/\"\n",
       "            frameborder=\"0\"\n",
       "            allowfullscreen\n",
       "            \n",
       "        ></iframe>\n",
       "        "
      ],
      "text/plain": [
       "<IPython.lib.display.IFrame at 0x72df5b973f40>"
      ]
     },
     "metadata": {},
     "output_type": "display_data"
    }
   ],
   "source": [
    "camera_1_transform = Transformation(np.eye(3), np.array([0, 0, 0]))\n",
    "image_1 = Image(K_1, camera_1_transform, distortion_coefs_1)\n",
    "camera_2_transform = Transformation(cv2.Rodrigues(np.array(stereo_cam_rotation))[0], \n",
    "                                    np.array(stereo_cam_translation))\n",
    "image_2 = Image(K_2, camera_2_transform, distortion_coefs_2)\n",
    "\n",
    "scene = StereoScene(image_1, image_2)\n",
    "app = scene.launch_3D_scene()\n",
    "app.run_server(host=\"localhost\", port=\"8060\",\n",
    "               debug=True, use_reloader=False)"
   ]
  },
  {
   "cell_type": "code",
   "execution_count": 24,
   "metadata": {},
   "outputs": [],
   "source": [
    "import plotly.graph_objects as go\n",
    "from IPython.display import display, clear_output\n",
    "\n",
    "camera_1_transform = Transformation(np.eye(3), np.array([0, 0, 0]))\n",
    "image_1 = Image(K_1, camera_1_transform, distortion_coefs_1)\n",
    "camera_2_transform = Transformation(np.eye(3), np.array([0, 0, 0]))\n",
    "# Transformation(cv2.Rodrigues(np.array(stereo_cam_rotation))[0], \n",
    "#                                     np.array(stereo_cam_translation))\n",
    "image_2 = Image(K_2, camera_2_transform, distortion_coefs_2)\n",
    "\n",
    "\n",
    "\n",
    "ball_center = np.array([0, 0, 5]).reshape((3, 1))\n",
    "image_with_ball = image_1.project_ball_to_image(ball_center, 0.25)\n",
    "\n"
   ]
  },
  {
   "cell_type": "code",
   "execution_count": 14,
   "metadata": {},
   "outputs": [
    {
     "data": {
      "text/plain": [
       "array([[1],\n",
       "       [0],\n",
       "       [0]])"
      ]
     },
     "execution_count": 14,
     "metadata": {},
     "output_type": "execute_result"
    }
   ],
   "source": [
    "np.array([1, 0, 0]).reshape((3, 1))"
   ]
  },
  {
   "cell_type": "code",
   "execution_count": 97,
   "metadata": {},
   "outputs": [],
   "source": [
    "def validate_image_point(point):\n",
    "    return (\n",
    "        point[0] < 0\n",
    "        or point[0] >= IMAGE_SIZE[0]\n",
    "        or point[1] < 0\n",
    "        or point[1] >= IMAGE_SIZE[1]\n",
    "    )\n",
    "    # raise ValueError(f\"Invalid image point coordinates: out of FOV?\")\n",
    "\n",
    "\n",
    "def project_point_to_image(point, transformation, camera_matrix):\n",
    "    return camera_matrix @ transformation(point)\n",
    "\n",
    "\n",
    "def normilise_image_point(point, camera_matrix):\n",
    "    x_normalised = (point[0] - camera_matrix[0, 2]) / camera_matrix[0, 0]\n",
    "    y_normalised = (point[1] - camera_matrix[1, 2]) / camera_matrix[1, 1]\n",
    "    return np.array([x_normalised, y_normalised, 1]).reshape(3, 1)\n",
    "\n",
    "\n",
    "def project_sphere_to_image(\n",
    "    center, radius: int, camera_matrix: np.ndarray, world2cam\n",
    ") -> np.ndarray:\n",
    "    image = np.zeros(IMAGE_SIZE[::-1])\n",
    "    center = center.reshape((3, 1))\n",
    "    camera_matrix_inv = np.linalg.inv(camera_matrix)\n",
    "\n",
    "    # projecting center and some edge point to approximate radius after projection\n",
    "    projected_center = project_point_to_image(center, world2cam, camera_matrix)\n",
    "    projected_center /= projected_center[2]\n",
    "    edge_point = center + np.array([radius, 0, 0]).reshape((3, 1))\n",
    "    projected_edge_point = project_point_to_image(edge_point, world2cam, camera_matrix)\n",
    "    projected_edge_point /= projected_edge_point[2]\n",
    "    approx_projected_radius = np.linalg.norm(\n",
    "        projected_edge_point - projected_center, ord=2\n",
    "    )\n",
    "\n",
    "    # calculating bounding box for calculations with 1.5 margin\n",
    "    x_start = int(max(0, projected_center[0].item() - 1.5 * approx_projected_radius))\n",
    "    y_start = int(max(0, projected_center[1].item() - 1.5 * approx_projected_radius))\n",
    "    x_stop = int(\n",
    "        min(IMAGE_SIZE[0], projected_center[0].item() + 1.5 * approx_projected_radius)\n",
    "    )\n",
    "    y_stop = int(\n",
    "        min(IMAGE_SIZE[1], projected_center[1].item() + 1.5 * approx_projected_radius)\n",
    "    )\n",
    "\n",
    "    for x in range(x_start, x_stop):\n",
    "        for y in range(y_start, y_stop):\n",
    "            # back project image point\n",
    "            world_ray = camera_matrix_inv @ np.array([x, y, 1]).reshape((3, 1))\n",
    "            # measure distance from the sphere center\n",
    "            distance = np.linalg.norm(\n",
    "                np.cross(world_ray.flatten(), center.flatten()), ord=2\n",
    "            ) / np.linalg.norm(world_ray, ord=2)\n",
    "            # if back-projected ray intersects with the sphere, paint the pixel in the mask\n",
    "            if distance <= radius:\n",
    "                image[y, x] = 1\n",
    "    return image\n",
    "\n",
    "\n",
    "# image = project_sphere_to_image((-0.25, 0.25, 0.5), 0.02, K_1, None)\n",
    "# plt.imshow(image, cmap=\"gray\")\n",
    "# plt.show()"
   ]
  },
  {
   "cell_type": "code",
   "execution_count": 76,
   "metadata": {},
   "outputs": [],
   "source": [
    "def triangulate_position(\n",
    "    points_by_view, world2cam, cam2cam, camera_matrix_1, camera_matrix_2\n",
    "):\n",
    "    world2cam_Rt = np.column_stack((world2cam.R, world2cam.t))\n",
    "    world2second_cam = cam2cam * world2cam\n",
    "    world2second_cam_Rt = np.column_stack((world2second_cam.R, world2second_cam.t))\n",
    "    proj_1 = camera_matrix_1 @ world2cam_Rt\n",
    "    proj_2 = camera_matrix_2 @ world2second_cam_Rt\n",
    "    # TODO preserve 4D points?\n",
    "    res = cv2.triangulatePoints(\n",
    "        proj_1, proj_2, points_by_view[:, :, 0].T, points_by_view[:, :, 1].T\n",
    "    )\n",
    "    for i in range(res.shape[1]):\n",
    "        res[:, i] /= res[3, i]\n",
    "    return res[:3, :]"
   ]
  },
  {
   "cell_type": "code",
   "execution_count": 95,
   "metadata": {},
   "outputs": [],
   "source": [
    "def get_bbox(mask: np.ndarray) -> List[float]:\n",
    "    if not np.any(mask):\n",
    "        return [0., 0., 0., 0.]\n",
    "    # x_min, y_min, x_max, y_max\n",
    "    horizontal_indicies = np.where(np.any(mask, axis=0))[0]\n",
    "    vertical_indicies = np.where(np.any(mask, axis=1))[0]\n",
    "    x1, x2 = horizontal_indicies[[0, -1]]\n",
    "    y1, y2 = vertical_indicies[[0, -1]]\n",
    "    bbox = list(map(float, [x1, y1, x2, y2]))\n",
    "    return bbox\n",
    "\n",
    "\n",
    "def get_mask_center(mask):\n",
    "    bbox = get_bbox(mask)\n",
    "    centroid_x = (bbox[0] + bbox[2]) / 2\n",
    "    centroid_y = (bbox[1] + bbox[3]) / 2\n",
    "    return np.array([centroid_x, centroid_y])\n",
    "\n",
    "\n",
    "def get_mask_centroid(mask):\n",
    "    return np.array(center_of_mass(mask))"
   ]
  },
  {
   "cell_type": "code",
   "execution_count": 107,
   "metadata": {},
   "outputs": [],
   "source": [
    "def evaluate_precision(sphere_centers, triangulated_points):\n",
    "    print(sphere_centers[:, :5])\n",
    "    print(triangulated_points[:, :5])\n",
    "    errors = sphere_centers - triangulated_points\n",
    "    print(\"precision of triangulated points:\")\n",
    "    print(np.mean(errors * errors))\n",
    "\n",
    "    fig = plt.figure()\n",
    "    ax = fig.add_subplot(projection='3d')\n",
    "    ax.scatter(sphere_centers[0, :], sphere_centers[1, :], sphere_centers[2, :], marker='o')\n",
    "    ax.scatter(triangulated_points[0, :], triangulated_points[1, :], triangulated_points[2, :], marker='o')\n",
    "\n",
    "    ax.set_xlabel('X Label')\n",
    "    ax.set_ylabel('Y Label')\n",
    "    ax.set_zlabel('Z Label')\n",
    "\n",
    "    plt.show()"
   ]
  },
  {
   "cell_type": "code",
   "execution_count": 114,
   "metadata": {},
   "outputs": [
    {
     "name": "stdout",
     "output_type": "stream",
     "text": [
      "0\n",
      "20\n",
      "40\n",
      "60\n",
      "80\n",
      "100\n",
      "120\n",
      "triangulated_points shape is (3, 125)\n",
      "[[-1.37    -0.7625   0.      -1.37    -0.7625 ]\n",
      " [ 0.25    -0.685    0.38125  0.5     -0.685  ]\n",
      " [-0.38125  0.75     0.685   -0.38125  1.     ]]\n",
      "[[ 1.29940542  1.29940542  1.29940542  1.29940542  1.29940542]\n",
      " [ 1.03681671  1.03681671  1.03681671  1.03681671  1.03681671]\n",
      " [-1.40207606 -1.40207606 -1.40207606 -1.40207606 -1.40207606]]\n",
      "precision of triangulated points:\n",
      "2.744184139499578\n"
     ]
    },
    {
     "data": {
      "image/png": "[encoded data removed]",
      "text/plain": [
       "<Figure size 640x480 with 1 Axes>"
      ]
     },
     "metadata": {},
     "output_type": "display_data"
    },
    {
     "name": "stdout",
     "output_type": "stream",
     "text": [
      "evalution complete\n"
     ]
    }
   ],
   "source": [
    "def evaluate_camera_position(\n",
    "    world2master: Transformation,\n",
    "    master2second: Transformation,\n",
    "    center_extranctor,\n",
    "    camera_matrix_1,\n",
    "    camera_matrix_2,\n",
    "):\n",
    "    NUMBER_OF_SPHERES = 5\n",
    "    sphere_centers = []\n",
    "    for x in np.linspace(-TABLE_LENGTH / 2, TABLE_LENGTH / 2, NUMBER_OF_SPHERES):\n",
    "        for y in np.linspace(-TABLE_WIDTH / 2, TABLE_WIDTH / 2, NUMBER_OF_SPHERES):\n",
    "            for z in np.linspace(0, 1, NUMBER_OF_SPHERES):\n",
    "                sphere_centers.append((x, y, z))\n",
    "    sphere_centers = np.array(sphere_centers).reshape((3, NUMBER_OF_SPHERES**3))\n",
    "    points = []\n",
    "    world2second = master2second * world2master\n",
    "    for i in range(sphere_centers.shape[1]):\n",
    "        if i % 20 == 0:\n",
    "            print(i)\n",
    "        mask_1 = project_sphere_to_image(\n",
    "            sphere_centers[:, i : (i + 1)], 0.02, K_1, world2master\n",
    "        )\n",
    "        mask_2 = project_sphere_to_image(\n",
    "            sphere_centers[:, i : (i + 1)], 0.02, K_2, world2second\n",
    "        )\n",
    "        points.append((center_extranctor(mask_1), center_extranctor(mask_2)))\n",
    "    triangulated_points = triangulate_position(\n",
    "        np.array(points), world2master, master2second, camera_matrix_1, camera_matrix_2\n",
    "    )\n",
    "    print(f\"triangulated_points shape is {triangulated_points.shape}\")\n",
    "\n",
    "    evaluate_precision(sphere_centers, triangulated_points)\n",
    "    print(\"evalution complete\")\n",
    "\n",
    "\n",
    "# main test: opposite camera placement\n",
    "# world2master = Transformation(Rotation.from_euler(\"xyz\", [0, -45, -90], degrees=True).as_matrix(), np.array([-TABLE_LENGTH/4, TABLE_WIDTH, 0.5]))\n",
    "# master2second = Transformation(Rotation.from_euler(\"xyz\", [], degrees=True).as_matrix(), np.array([0, 0, 0]))\n",
    "\n",
    "world2master = Transformation(\n",
    "    Rotation.from_euler(\"xyz\", [0, -45, -90], degrees=True).as_matrix(),\n",
    "    np.array([-TABLE_LENGTH / 4, TABLE_WIDTH, 0.5]),\n",
    ")\n",
    "master2second = Transformation(\n",
    "    Rotation.from_euler(\n",
    "        \"xyz\", [0.01175419895518242, 2.170836441913732, 2.19333242876324], degrees=False\n",
    "    ).as_matrix(),\n",
    "    np.array([-0.06677747450343367, -1.174973690204363, 1.140354306665756]),\n",
    ")\n",
    "evaluate_camera_position(world2master, master2second, get_mask_center, K_1, K_2)"
   ]
  },
  {
   "cell_type": "code",
   "execution_count": 1,
   "metadata": {},
   "outputs": [
    {
     "data": {
      "application/vnd.plotly.v1+json": {
       "config": {
        "plotlyServerURL": "https://plot.ly"
       },
       "data": [
        {
         "color": "lightblue",
         "opacity": 0.5,
         "type": "mesh3d",
         "x": [
          0,
          1,
          1,
          0
         ],
         "y": [
          0,
          0,
          1,
          1
         ],
         "z": [
          0,
          0,
          0,
          0
         ]
        },
        {
         "colorscale": [
          [
           0,
           "red"
          ],
          [
           1,
           "red"
          ]
         ],
         "type": "surface",
         "x": [
          [
           0.5,
           0.5342020143325669,
           0.5642787609686539,
           0.5866025403784438,
           0.5984807753012208,
           0.5984807753012208,
           0.5866025403784438,
           0.5642787609686539,
           0.5342020143325669,
           0.5
          ],
          [
           0.5,
           0.532348854856634,
           0.5607959603993067,
           0.5819101758650076,
           0.5931448152559406,
           0.5931448152559406,
           0.5819101758650076,
           0.5607959603993067,
           0.532348854856634,
           0.5
          ],
          [
           0.5,
           0.5269901950127845,
           0.5507249741741725,
           0.5683415728292669,
           0.5777151691869572,
           0.5777151691869572,
           0.5683415728292669,
           0.5507249741741727,
           0.5269901950127845,
           0.5
          ],
          [
           0.5,
           0.5187067287432743,
           0.5351571499181971,
           0.547367099948713,
           0.5538638786614714,
           0.5538638786614714,
           0.547367099948713,
           0.5351571499181971,
           0.5187067287432743,
           0.5
          ],
          [
           0.5,
           0.5083960981496268,
           0.5157795029491969,
           0.5212596668124331,
           0.5241756010988238,
           0.5241756010988238,
           0.5212596668124331,
           0.515779502949197,
           0.5083960981496268,
           0.5
          ],
          [
           0.5,
           0.4971756200425813,
           0.49469190199143603,
           0.49284841889930686,
           0.49186752203401735,
           0.49186752203401735,
           0.49284841889930686,
           0.49469190199143603,
           0.4971756200425813,
           0.5
          ],
          [
           0.5,
           0.4862612073286926,
           0.47417951581652984,
           0.4652121557666551,
           0.46044072314522244,
           0.46044072314522244,
           0.4652121557666551,
           0.47417951581652984,
           0.4862612073286926,
           0.5
          ],
          [
           0.5,
           0.476835605980073,
           0.45646517974899475,
           0.44134569534570584,
           0.4333007857290677,
           0.4333007857290677,
           0.44134569534570584,
           0.4564651797489947,
           0.47683560598007296,
           0.5
          ],
          [
           0.5,
           0.46992022615611934,
           0.44346851696799267,
           0.42383533894935854,
           0.413388743124112,
           0.413388743124112,
           0.42383533894935854,
           0.44346851696799267,
           0.4699202261561193,
           0.5
          ],
          [
           0.5,
           0.46626445656393073,
           0.43659791754984645,
           0.4145786053943312,
           0.40286237411377723,
           0.40286237411377723,
           0.4145786053943312,
           0.43659791754984645,
           0.46626445656393073,
           0.5
          ],
          [
           0.5,
           0.46626445656393073,
           0.43659791754984645,
           0.4145786053943312,
           0.40286237411377723,
           0.40286237411377723,
           0.4145786053943312,
           0.43659791754984645,
           0.46626445656393073,
           0.5
          ],
          [
           0.5,
           0.4699202261561193,
           0.44346851696799267,
           0.42383533894935854,
           0.413388743124112,
           0.413388743124112,
           0.42383533894935854,
           0.44346851696799267,
           0.4699202261561193,
           0.5
          ],
          [
           0.5,
           0.47683560598007296,
           0.4564651797489947,
           0.4413456953457058,
           0.43330078572906766,
           0.43330078572906766,
           0.4413456953457058,
           0.4564651797489947,
           0.47683560598007296,
           0.5
          ],
          [
           0.5,
           0.4862612073286926,
           0.47417951581652984,
           0.46521215576665503,
           0.4604407231452224,
           0.4604407231452224,
           0.46521215576665503,
           0.4741795158165298,
           0.4862612073286926,
           0.5
          ],
          [
           0.5,
           0.4971756200425813,
           0.49469190199143603,
           0.49284841889930686,
           0.4918675220340173,
           0.4918675220340173,
           0.49284841889930686,
           0.49469190199143603,
           0.49717562004258126,
           0.5
          ],
          [
           0.5,
           0.5083960981496267,
           0.5157795029491969,
           0.521259666812433,
           0.5241756010988238,
           0.5241756010988238,
           0.521259666812433,
           0.5157795029491969,
           0.5083960981496267,
           0.5
          ],
          [
           0.5,
           0.5187067287432743,
           0.535157149918197,
           0.5473670999487129,
           0.5538638786614712,
           0.5538638786614712,
           0.5473670999487129,
           0.535157149918197,
           0.5187067287432743,
           0.5
          ],
          [
           0.5,
           0.5269901950127845,
           0.5507249741741725,
           0.5683415728292669,
           0.5777151691869571,
           0.5777151691869571,
           0.5683415728292669,
           0.5507249741741725,
           0.5269901950127845,
           0.5
          ],
          [
           0.5,
           0.532348854856634,
           0.5607959603993067,
           0.5819101758650076,
           0.5931448152559406,
           0.5931448152559406,
           0.5819101758650076,
           0.5607959603993067,
           0.532348854856634,
           0.5
          ],
          [
           0.5,
           0.5342020143325669,
           0.5642787609686539,
           0.5866025403784438,
           0.5984807753012208,
           0.5984807753012208,
           0.5866025403784438,
           0.5642787609686539,
           0.5342020143325669,
           0.5
          ]
         ],
         "y": [
          [
           0.5,
           0.5,
           0.5,
           0.5,
           0.5,
           0.5,
           0.5,
           0.5,
           0.5,
           0.5
          ],
          [
           0.5,
           0.5111053758995154,
           0.5208712795676567,
           0.5281197988926579,
           0.5319766554671721,
           0.5319766554671721,
           0.5281197988926579,
           0.5208712795676567,
           0.5111053758995154,
           0.5
          ],
          [
           0.5,
           0.5210073120026568,
           0.5394808321428877,
           0.5531923812516605,
           0.5604881441455445,
           0.5604881441455445,
           0.5531923812516605,
           0.5394808321428877,
           0.5210073120026568,
           0.5
          ],
          [
           0.5,
           0.5286327798882795,
           0.5538120239472069,
           0.5725007437372103,
           0.5824448038354865,
           0.5824448038354865,
           0.5725007437372103,
           0.5538120239472069,
           0.5286327798882795,
           0.5
          ],
          [
           0.5,
           0.5331554417896511,
           0.5623118479772637,
           0.5839525256738851,
           0.5954672897669149,
           0.5954672897669149,
           0.5839525256738851,
           0.5623118479772637,
           0.5331554417896511,
           0.5
          ],
          [
           0.5,
           0.5340851971134281,
           0.564059216411043,
           0.5863067487961411,
           0.5981444135244709,
           0.5981444135244709,
           0.5863067487961411,
           0.564059216411043,
           0.5340851971134281,
           0.5
          ],
          [
           0.5,
           0.5313212924436387,
           0.5588647747655294,
           0.5793082964991465,
           0.5901860672091682,
           0.5901860672091682,
           0.5793082964991465,
           0.5588647747655295,
           0.5313212924436388,
           0.5
          ],
          [
           0.5,
           0.5251632397376546,
           0.5472914213930815,
           0.5637155596814565,
           0.5724546611307362,
           0.5724546611307362,
           0.5637155596814565,
           0.5472914213930815,
           0.5251632397376547,
           0.5
          ],
          [
           0.5,
           0.5162783595582018,
           0.530593308710684,
           0.5412182533235083,
           0.5468716682688859,
           0.5468716682688859,
           0.5412182533235083,
           0.530593308710684,
           0.5162783595582019,
           0.5
          ],
          [
           0.5,
           0.5056294665358446,
           0.5105799363253888,
           0.5142543096508607,
           0.5162094028612335,
           0.5162094028612335,
           0.5142543096508607,
           0.5105799363253888,
           0.5056294665358446,
           0.5
          ],
          [
           0.5,
           0.4943705334641554,
           0.48942006367461116,
           0.48574569034913934,
           0.48379059713876654,
           0.48379059713876654,
           0.48574569034913934,
           0.48942006367461116,
           0.4943705334641554,
           0.5
          ],
          [
           0.5,
           0.48372164044179816,
           0.46940669128931595,
           0.45878174667649174,
           0.4531283317311141,
           0.4531283317311141,
           0.45878174667649174,
           0.46940669128931595,
           0.48372164044179816,
           0.5
          ],
          [
           0.5,
           0.4748367602623454,
           0.4527085786069185,
           0.4362844403185435,
           0.42754533886926394,
           0.42754533886926394,
           0.4362844403185435,
           0.4527085786069185,
           0.4748367602623454,
           0.5
          ],
          [
           0.5,
           0.46867870755636126,
           0.4411352252344705,
           0.42069170350085355,
           0.40981393279083184,
           0.40981393279083184,
           0.4206917035008535,
           0.4411352252344705,
           0.46867870755636126,
           0.5
          ],
          [
           0.5,
           0.465914802886572,
           0.4359407835889571,
           0.41369325120385886,
           0.4018555864755291,
           0.4018555864755291,
           0.41369325120385886,
           0.4359407835889571,
           0.46591480288657194,
           0.5
          ],
          [
           0.5,
           0.46684455821034887,
           0.43768815202273625,
           0.4160474743261149,
           0.4045327102330851,
           0.4045327102330851,
           0.4160474743261149,
           0.4376881520227362,
           0.46684455821034887,
           0.5
          ],
          [
           0.5,
           0.47136722011172044,
           0.4461879760527931,
           0.42749925626278973,
           0.41755519616451353,
           0.41755519616451353,
           0.42749925626278973,
           0.4461879760527931,
           0.47136722011172044,
           0.5
          ],
          [
           0.5,
           0.4789926879973432,
           0.46051916785711233,
           0.44680761874833946,
           0.4395118558544555,
           0.4395118558544555,
           0.44680761874833946,
           0.46051916785711233,
           0.4789926879973432,
           0.5
          ],
          [
           0.5,
           0.48889462410048456,
           0.47912872043234334,
           0.4718802011073421,
           0.4680233445328279,
           0.4680233445328279,
           0.4718802011073421,
           0.47912872043234334,
           0.48889462410048456,
           0.5
          ],
          [
           0.5,
           0.5,
           0.5,
           0.5,
           0.5,
           0.5,
           0.5,
           0.5,
           0.5,
           0.5
          ]
         ],
         "z": [
          [
           0.6,
           0.5939692620785908,
           0.5766044443118978,
           0.55,
           0.5173648177666931,
           0.482635182233307,
           0.45,
           0.4233955556881022,
           0.40603073792140915,
           0.4
          ],
          [
           0.6,
           0.5939692620785908,
           0.5766044443118978,
           0.55,
           0.5173648177666931,
           0.482635182233307,
           0.45,
           0.4233955556881022,
           0.40603073792140915,
           0.4
          ],
          [
           0.6,
           0.5939692620785908,
           0.5766044443118978,
           0.55,
           0.5173648177666931,
           0.482635182233307,
           0.45,
           0.4233955556881022,
           0.40603073792140915,
           0.4
          ],
          [
           0.6,
           0.5939692620785908,
           0.5766044443118978,
           0.55,
           0.5173648177666931,
           0.482635182233307,
           0.45,
           0.4233955556881022,
           0.40603073792140915,
           0.4
          ],
          [
           0.6,
           0.5939692620785908,
           0.5766044443118978,
           0.55,
           0.5173648177666931,
           0.482635182233307,
           0.45,
           0.4233955556881022,
           0.40603073792140915,
           0.4
          ],
          [
           0.6,
           0.5939692620785908,
           0.5766044443118978,
           0.55,
           0.5173648177666931,
           0.482635182233307,
           0.45,
           0.4233955556881022,
           0.40603073792140915,
           0.4
          ],
          [
           0.6,
           0.5939692620785908,
           0.5766044443118978,
           0.55,
           0.5173648177666931,
           0.482635182233307,
           0.45,
           0.4233955556881022,
           0.40603073792140915,
           0.4
          ],
          [
           0.6,
           0.5939692620785908,
           0.5766044443118978,
           0.55,
           0.5173648177666931,
           0.482635182233307,
           0.45,
           0.4233955556881022,
           0.40603073792140915,
           0.4
          ],
          [
           0.6,
           0.5939692620785908,
           0.5766044443118978,
           0.55,
           0.5173648177666931,
           0.482635182233307,
           0.45,
           0.4233955556881022,
           0.40603073792140915,
           0.4
          ],
          [
           0.6,
           0.5939692620785908,
           0.5766044443118978,
           0.55,
           0.5173648177666931,
           0.482635182233307,
           0.45,
           0.4233955556881022,
           0.40603073792140915,
           0.4
          ],
          [
           0.6,
           0.5939692620785908,
           0.5766044443118978,
           0.55,
           0.5173648177666931,
           0.482635182233307,
           0.45,
           0.4233955556881022,
           0.40603073792140915,
           0.4
          ],
          [
           0.6,
           0.5939692620785908,
           0.5766044443118978,
           0.55,
           0.5173648177666931,
           0.482635182233307,
           0.45,
           0.4233955556881022,
           0.40603073792140915,
           0.4
          ],
          [
           0.6,
           0.5939692620785908,
           0.5766044443118978,
           0.55,
           0.5173648177666931,
           0.482635182233307,
           0.45,
           0.4233955556881022,
           0.40603073792140915,
           0.4
          ],
          [
           0.6,
           0.5939692620785908,
           0.5766044443118978,
           0.55,
           0.5173648177666931,
           0.482635182233307,
           0.45,
           0.4233955556881022,
           0.40603073792140915,
           0.4
          ],
          [
           0.6,
           0.5939692620785908,
           0.5766044443118978,
           0.55,
           0.5173648177666931,
           0.482635182233307,
           0.45,
           0.4233955556881022,
           0.40603073792140915,
           0.4
          ],
          [
           0.6,
           0.5939692620785908,
           0.5766044443118978,
           0.55,
           0.5173648177666931,
           0.482635182233307,
           0.45,
           0.4233955556881022,
           0.40603073792140915,
           0.4
          ],
          [
           0.6,
           0.5939692620785908,
           0.5766044443118978,
           0.55,
           0.5173648177666931,
           0.482635182233307,
           0.45,
           0.4233955556881022,
           0.40603073792140915,
           0.4
          ],
          [
           0.6,
           0.5939692620785908,
           0.5766044443118978,
           0.55,
           0.5173648177666931,
           0.482635182233307,
           0.45,
           0.4233955556881022,
           0.40603073792140915,
           0.4
          ],
          [
           0.6,
           0.5939692620785908,
           0.5766044443118978,
           0.55,
           0.5173648177666931,
           0.482635182233307,
           0.45,
           0.4233955556881022,
           0.40603073792140915,
           0.4
          ],
          [
           0.6,
           0.5939692620785908,
           0.5766044443118978,
           0.55,
           0.5173648177666931,
           0.482635182233307,
           0.45,
           0.4233955556881022,
           0.40603073792140915,
           0.4
          ]
         ]
        },
        {
         "colorscale": [
          [
           0,
           "blue"
          ],
          [
           1,
           "blue"
          ]
         ],
         "type": "surface",
         "x": [
          [
           0.7,
           0.7342020143325668,
           0.7642787609686539,
           0.7866025403784438,
           0.7984807753012207,
           0.7984807753012207,
           0.7866025403784438,
           0.7642787609686539,
           0.7342020143325668,
           0.7
          ],
          [
           0.7,
           0.7323488548566339,
           0.7607959603993066,
           0.7819101758650076,
           0.7931448152559406,
           0.7931448152559406,
           0.7819101758650076,
           0.7607959603993066,
           0.7323488548566339,
           0.7
          ],
          [
           0.7,
           0.7269901950127845,
           0.7507249741741725,
           0.7683415728292669,
           0.7777151691869572,
           0.7777151691869572,
           0.7683415728292669,
           0.7507249741741726,
           0.7269901950127845,
           0.7
          ],
          [
           0.7,
           0.7187067287432742,
           0.735157149918197,
           0.747367099948713,
           0.7538638786614713,
           0.7538638786614713,
           0.747367099948713,
           0.735157149918197,
           0.7187067287432742,
           0.7
          ],
          [
           0.7,
           0.7083960981496268,
           0.7157795029491969,
           0.721259666812433,
           0.7241756010988237,
           0.7241756010988237,
           0.721259666812433,
           0.715779502949197,
           0.7083960981496268,
           0.7
          ],
          [
           0.7,
           0.6971756200425813,
           0.694691901991436,
           0.6928484188993068,
           0.6918675220340174,
           0.6918675220340174,
           0.6928484188993068,
           0.694691901991436,
           0.6971756200425813,
           0.7
          ],
          [
           0.7,
           0.6862612073286926,
           0.6741795158165298,
           0.665212155766655,
           0.6604407231452224,
           0.6604407231452224,
           0.665212155766655,
           0.6741795158165298,
           0.6862612073286926,
           0.7
          ],
          [
           0.7,
           0.676835605980073,
           0.6564651797489947,
           0.6413456953457058,
           0.6333007857290677,
           0.6333007857290677,
           0.6413456953457058,
           0.6564651797489947,
           0.676835605980073,
           0.7
          ],
          [
           0.7,
           0.6699202261561192,
           0.6434685169679927,
           0.6238353389493585,
           0.613388743124112,
           0.613388743124112,
           0.6238353389493585,
           0.6434685169679926,
           0.6699202261561192,
           0.7
          ],
          [
           0.7,
           0.6662644565639307,
           0.6365979175498464,
           0.6145786053943312,
           0.6028623741137772,
           0.6028623741137772,
           0.6145786053943312,
           0.6365979175498464,
           0.6662644565639306,
           0.7
          ],
          [
           0.7,
           0.6662644565639307,
           0.6365979175498464,
           0.6145786053943312,
           0.6028623741137772,
           0.6028623741137772,
           0.6145786053943312,
           0.6365979175498464,
           0.6662644565639306,
           0.7
          ],
          [
           0.7,
           0.6699202261561192,
           0.6434685169679927,
           0.6238353389493585,
           0.613388743124112,
           0.613388743124112,
           0.6238353389493585,
           0.6434685169679926,
           0.6699202261561192,
           0.7
          ],
          [
           0.7,
           0.676835605980073,
           0.6564651797489947,
           0.6413456953457057,
           0.6333007857290677,
           0.6333007857290677,
           0.6413456953457057,
           0.6564651797489947,
           0.6768356059800729,
           0.7
          ],
          [
           0.7,
           0.6862612073286926,
           0.6741795158165298,
           0.6652121557666549,
           0.6604407231452224,
           0.6604407231452224,
           0.6652121557666549,
           0.6741795158165298,
           0.6862612073286926,
           0.7
          ],
          [
           0.7,
           0.6971756200425813,
           0.6946919019914359,
           0.6928484188993068,
           0.6918675220340172,
           0.6918675220340172,
           0.6928484188993068,
           0.6946919019914359,
           0.6971756200425813,
           0.7
          ],
          [
           0.7,
           0.7083960981496267,
           0.7157795029491969,
           0.7212596668124329,
           0.7241756010988237,
           0.7241756010988237,
           0.7212596668124329,
           0.7157795029491969,
           0.7083960981496267,
           0.7
          ],
          [
           0.7,
           0.7187067287432742,
           0.7351571499181969,
           0.7473670999487129,
           0.7538638786614712,
           0.7538638786614712,
           0.7473670999487129,
           0.7351571499181969,
           0.7187067287432742,
           0.7
          ],
          [
           0.7,
           0.7269901950127845,
           0.7507249741741725,
           0.7683415728292669,
           0.777715169186957,
           0.777715169186957,
           0.7683415728292669,
           0.7507249741741725,
           0.7269901950127845,
           0.7
          ],
          [
           0.7,
           0.7323488548566339,
           0.7607959603993066,
           0.7819101758650076,
           0.7931448152559406,
           0.7931448152559406,
           0.7819101758650076,
           0.7607959603993066,
           0.7323488548566339,
           0.7
          ],
          [
           0.7,
           0.7342020143325668,
           0.7642787609686539,
           0.7866025403784438,
           0.7984807753012207,
           0.7984807753012207,
           0.7866025403784438,
           0.7642787609686539,
           0.7342020143325668,
           0.7
          ]
         ],
         "y": [
          [
           0.3,
           0.3,
           0.3,
           0.3,
           0.3,
           0.3,
           0.3,
           0.3,
           0.3,
           0.3
          ],
          [
           0.3,
           0.3111053758995154,
           0.32087127956765665,
           0.32811979889265785,
           0.3319766554671721,
           0.3319766554671721,
           0.32811979889265785,
           0.32087127956765665,
           0.3111053758995154,
           0.3
          ],
          [
           0.3,
           0.3210073120026568,
           0.33948083214288766,
           0.35319238125166047,
           0.3604881441455445,
           0.3604881441455445,
           0.35319238125166047,
           0.33948083214288766,
           0.3210073120026568,
           0.3
          ],
          [
           0.3,
           0.32863277988827955,
           0.3538120239472069,
           0.37250074373721026,
           0.3824448038354864,
           0.3824448038354864,
           0.37250074373721026,
           0.3538120239472069,
           0.32863277988827955,
           0.3
          ],
          [
           0.3,
           0.3331554417896511,
           0.36231184797726373,
           0.38395252567388505,
           0.39546728976691486,
           0.39546728976691486,
           0.38395252567388505,
           0.3623118479772638,
           0.3331554417896511,
           0.3
          ],
          [
           0.3,
           0.334085197113428,
           0.3640592164110429,
           0.38630674879614113,
           0.3981444135244709,
           0.3981444135244709,
           0.38630674879614113,
           0.3640592164110429,
           0.334085197113428,
           0.3
          ],
          [
           0.3,
           0.3313212924436387,
           0.35886477476552947,
           0.3793082964991465,
           0.3901860672091682,
           0.3901860672091682,
           0.3793082964991465,
           0.35886477476552947,
           0.3313212924436387,
           0.3
          ],
          [
           0.3,
           0.3251632397376546,
           0.3472914213930815,
           0.3637155596814565,
           0.3724546611307361,
           0.3724546611307361,
           0.3637155596814565,
           0.34729142139308156,
           0.3251632397376546,
           0.3
          ],
          [
           0.3,
           0.3162783595582018,
           0.33059330871068404,
           0.34121825332350825,
           0.3468716682688859,
           0.3468716682688859,
           0.34121825332350825,
           0.33059330871068404,
           0.3162783595582018,
           0.3
          ],
          [
           0.3,
           0.3056294665358446,
           0.31057993632538883,
           0.3142543096508607,
           0.31620940286123345,
           0.31620940286123345,
           0.3142543096508607,
           0.31057993632538883,
           0.3056294665358446,
           0.3
          ],
          [
           0.3,
           0.29437053346415537,
           0.28942006367461115,
           0.2857456903491393,
           0.28379059713876653,
           0.28379059713876653,
           0.2857456903491393,
           0.28942006367461115,
           0.29437053346415537,
           0.3
          ],
          [
           0.3,
           0.28372164044179815,
           0.26940669128931594,
           0.25878174667649173,
           0.25312833173111415,
           0.25312833173111415,
           0.25878174667649173,
           0.26940669128931594,
           0.28372164044179815,
           0.3
          ],
          [
           0.3,
           0.2748367602623454,
           0.2527085786069185,
           0.2362844403185435,
           0.2275453388692639,
           0.2275453388692639,
           0.2362844403185435,
           0.2527085786069185,
           0.2748367602623454,
           0.3
          ],
          [
           0.3,
           0.26867870755636125,
           0.24113522523447053,
           0.22069170350085354,
           0.20981393279083183,
           0.20981393279083183,
           0.22069170350085351,
           0.2411352252344705,
           0.26867870755636125,
           0.3
          ],
          [
           0.3,
           0.265914802886572,
           0.2359407835889571,
           0.21369325120385885,
           0.2018555864755291,
           0.2018555864755291,
           0.21369325120385885,
           0.2359407835889571,
           0.265914802886572,
           0.3
          ],
          [
           0.3,
           0.26684455821034886,
           0.23768815202273622,
           0.2160474743261149,
           0.20453271023308509,
           0.20453271023308509,
           0.21604747432611487,
           0.2376881520227362,
           0.26684455821034886,
           0.3
          ],
          [
           0.3,
           0.27136722011172043,
           0.24618797605279308,
           0.22749925626278972,
           0.21755519616451355,
           0.21755519616451355,
           0.2274992562627897,
           0.24618797605279308,
           0.27136722011172043,
           0.3
          ],
          [
           0.3,
           0.27899268799734317,
           0.2605191678571123,
           0.24680761874833948,
           0.2395118558544555,
           0.2395118558544555,
           0.24680761874833945,
           0.26051916785711227,
           0.27899268799734317,
           0.3
          ],
          [
           0.3,
           0.28889462410048455,
           0.2791287204323433,
           0.27188020110734207,
           0.2680233445328279,
           0.2680233445328279,
           0.27188020110734207,
           0.2791287204323433,
           0.28889462410048455,
           0.3
          ],
          [
           0.3,
           0.3,
           0.3,
           0.3,
           0.3,
           0.3,
           0.3,
           0.3,
           0.3,
           0.3
          ]
         ],
         "z": [
          [
           0.30000000000000004,
           0.29396926207859086,
           0.2766044443118978,
           0.25,
           0.21736481776669306,
           0.182635182233307,
           0.15000000000000002,
           0.12339555568810222,
           0.10603073792140917,
           0.1
          ],
          [
           0.30000000000000004,
           0.29396926207859086,
           0.2766044443118978,
           0.25,
           0.21736481776669306,
           0.182635182233307,
           0.15000000000000002,
           0.12339555568810222,
           0.10603073792140917,
           0.1
          ],
          [
           0.30000000000000004,
           0.29396926207859086,
           0.2766044443118978,
           0.25,
           0.21736481776669306,
           0.182635182233307,
           0.15000000000000002,
           0.12339555568810222,
           0.10603073792140917,
           0.1
          ],
          [
           0.30000000000000004,
           0.29396926207859086,
           0.2766044443118978,
           0.25,
           0.21736481776669306,
           0.182635182233307,
           0.15000000000000002,
           0.12339555568810222,
           0.10603073792140917,
           0.1
          ],
          [
           0.30000000000000004,
           0.29396926207859086,
           0.2766044443118978,
           0.25,
           0.21736481776669306,
           0.182635182233307,
           0.15000000000000002,
           0.12339555568810222,
           0.10603073792140917,
           0.1
          ],
          [
           0.30000000000000004,
           0.29396926207859086,
           0.2766044443118978,
           0.25,
           0.21736481776669306,
           0.182635182233307,
           0.15000000000000002,
           0.12339555568810222,
           0.10603073792140917,
           0.1
          ],
          [
           0.30000000000000004,
           0.29396926207859086,
           0.2766044443118978,
           0.25,
           0.21736481776669306,
           0.182635182233307,
           0.15000000000000002,
           0.12339555568810222,
           0.10603073792140917,
           0.1
          ],
          [
           0.30000000000000004,
           0.29396926207859086,
           0.2766044443118978,
           0.25,
           0.21736481776669306,
           0.182635182233307,
           0.15000000000000002,
           0.12339555568810222,
           0.10603073792140917,
           0.1
          ],
          [
           0.30000000000000004,
           0.29396926207859086,
           0.2766044443118978,
           0.25,
           0.21736481776669306,
           0.182635182233307,
           0.15000000000000002,
           0.12339555568810222,
           0.10603073792140917,
           0.1
          ],
          [
           0.30000000000000004,
           0.29396926207859086,
           0.2766044443118978,
           0.25,
           0.21736481776669306,
           0.182635182233307,
           0.15000000000000002,
           0.12339555568810222,
           0.10603073792140917,
           0.1
          ],
          [
           0.30000000000000004,
           0.29396926207859086,
           0.2766044443118978,
           0.25,
           0.21736481776669306,
           0.182635182233307,
           0.15000000000000002,
           0.12339555568810222,
           0.10603073792140917,
           0.1
          ],
          [
           0.30000000000000004,
           0.29396926207859086,
           0.2766044443118978,
           0.25,
           0.21736481776669306,
           0.182635182233307,
           0.15000000000000002,
           0.12339555568810222,
           0.10603073792140917,
           0.1
          ],
          [
           0.30000000000000004,
           0.29396926207859086,
           0.2766044443118978,
           0.25,
           0.21736481776669306,
           0.182635182233307,
           0.15000000000000002,
           0.12339555568810222,
           0.10603073792140917,
           0.1
          ],
          [
           0.30000000000000004,
           0.29396926207859086,
           0.2766044443118978,
           0.25,
           0.21736481776669306,
           0.182635182233307,
           0.15000000000000002,
           0.12339555568810222,
           0.10603073792140917,
           0.1
          ],
          [
           0.30000000000000004,
           0.29396926207859086,
           0.2766044443118978,
           0.25,
           0.21736481776669306,
           0.182635182233307,
           0.15000000000000002,
           0.12339555568810222,
           0.10603073792140917,
           0.1
          ],
          [
           0.30000000000000004,
           0.29396926207859086,
           0.2766044443118978,
           0.25,
           0.21736481776669306,
           0.182635182233307,
           0.15000000000000002,
           0.12339555568810222,
           0.10603073792140917,
           0.1
          ],
          [
           0.30000000000000004,
           0.29396926207859086,
           0.2766044443118978,
           0.25,
           0.21736481776669306,
           0.182635182233307,
           0.15000000000000002,
           0.12339555568810222,
           0.10603073792140917,
           0.1
          ],
          [
           0.30000000000000004,
           0.29396926207859086,
           0.2766044443118978,
           0.25,
           0.21736481776669306,
           0.182635182233307,
           0.15000000000000002,
           0.12339555568810222,
           0.10603073792140917,
           0.1
          ],
          [
           0.30000000000000004,
           0.29396926207859086,
           0.2766044443118978,
           0.25,
           0.21736481776669306,
           0.182635182233307,
           0.15000000000000002,
           0.12339555568810222,
           0.10603073792140917,
           0.1
          ],
          [
           0.30000000000000004,
           0.29396926207859086,
           0.2766044443118978,
           0.25,
           0.21736481776669306,
           0.182635182233307,
           0.15000000000000002,
           0.12339555568810222,
           0.10603073792140917,
           0.1
          ]
         ]
        }
       ],
       "layout": {
        "template": {
         "data": {
          "bar": [
           {
            "error_x": {
             "color": "#2a3f5f"
            },
            "error_y": {
             "color": "#2a3f5f"
            },
            "marker": {
             "line": {
              "color": "#E5ECF6",
              "width": 0.5
             },
             "pattern": {
              "fillmode": "overlay",
              "size": 10,
              "solidity": 0.2
             }
            },
            "type": "bar"
           }
          ],
          "barpolar": [
           {
            "marker": {
             "line": {
              "color": "#E5ECF6",
              "width": 0.5
             },
             "pattern": {
              "fillmode": "overlay",
              "size": 10,
              "solidity": 0.2
             }
            },
            "type": "barpolar"
           }
          ],
          "carpet": [
           {
            "aaxis": {
             "endlinecolor": "#2a3f5f",
             "gridcolor": "white",
             "linecolor": "white",
             "minorgridcolor": "white",
             "startlinecolor": "#2a3f5f"
            },
            "baxis": {
             "endlinecolor": "#2a3f5f",
             "gridcolor": "white",
             "linecolor": "white",
             "minorgridcolor": "white",
             "startlinecolor": "#2a3f5f"
            },
            "type": "carpet"
           }
          ],
          "choropleth": [
           {
            "colorbar": {
             "outlinewidth": 0,
             "ticks": ""
            },
            "type": "choropleth"
           }
          ],
          "contour": [
           {
            "colorbar": {
             "outlinewidth": 0,
             "ticks": ""
            },
            "colorscale": [
             [
              0,
              "#0d0887"
             ],
             [
              0.1111111111111111,
              "#46039f"
             ],
             [
              0.2222222222222222,
              "#7201a8"
             ],
             [
              0.3333333333333333,
              "#9c179e"
             ],
             [
              0.4444444444444444,
              "#bd3786"
             ],
             [
              0.5555555555555556,
              "#d8576b"
             ],
             [
              0.6666666666666666,
              "#ed7953"
             ],
             [
              0.7777777777777778,
              "#fb9f3a"
             ],
             [
              0.8888888888888888,
              "#fdca26"
             ],
             [
              1,
              "#f0f921"
             ]
            ],
            "type": "contour"
           }
          ],
          "contourcarpet": [
           {
            "colorbar": {
             "outlinewidth": 0,
             "ticks": ""
            },
            "type": "contourcarpet"
           }
          ],
          "heatmap": [
           {
            "colorbar": {
             "outlinewidth": 0,
             "ticks": ""
            },
            "colorscale": [
             [
              0,
              "#0d0887"
             ],
             [
              0.1111111111111111,
              "#46039f"
             ],
             [
              0.2222222222222222,
              "#7201a8"
             ],
             [
              0.3333333333333333,
              "#9c179e"
             ],
             [
              0.4444444444444444,
              "#bd3786"
             ],
             [
              0.5555555555555556,
              "#d8576b"
             ],
             [
              0.6666666666666666,
              "#ed7953"
             ],
             [
              0.7777777777777778,
              "#fb9f3a"
             ],
             [
              0.8888888888888888,
              "#fdca26"
             ],
             [
              1,
              "#f0f921"
             ]
            ],
            "type": "heatmap"
           }
          ],
          "heatmapgl": [
           {
            "colorbar": {
             "outlinewidth": 0,
             "ticks": ""
            },
            "colorscale": [
             [
              0,
              "#0d0887"
             ],
             [
              0.1111111111111111,
              "#46039f"
             ],
             [
              0.2222222222222222,
              "#7201a8"
             ],
             [
              0.3333333333333333,
              "#9c179e"
             ],
             [
              0.4444444444444444,
              "#bd3786"
             ],
             [
              0.5555555555555556,
              "#d8576b"
             ],
             [
              0.6666666666666666,
              "#ed7953"
             ],
             [
              0.7777777777777778,
              "#fb9f3a"
             ],
             [
              0.8888888888888888,
              "#fdca26"
             ],
             [
              1,
              "#f0f921"
             ]
            ],
            "type": "heatmapgl"
           }
          ],
          "histogram": [
           {
            "marker": {
             "pattern": {
              "fillmode": "overlay",
              "size": 10,
              "solidity": 0.2
             }
            },
            "type": "histogram"
           }
          ],
          "histogram2d": [
           {
            "colorbar": {
             "outlinewidth": 0,
             "ticks": ""
            },
            "colorscale": [
             [
              0,
              "#0d0887"
             ],
             [
              0.1111111111111111,
              "#46039f"
             ],
             [
              0.2222222222222222,
              "#7201a8"
             ],
             [
              0.3333333333333333,
              "#9c179e"
             ],
             [
              0.4444444444444444,
              "#bd3786"
             ],
             [
              0.5555555555555556,
              "#d8576b"
             ],
             [
              0.6666666666666666,
              "#ed7953"
             ],
             [
              0.7777777777777778,
              "#fb9f3a"
             ],
             [
              0.8888888888888888,
              "#fdca26"
             ],
             [
              1,
              "#f0f921"
             ]
            ],
            "type": "histogram2d"
           }
          ],
          "histogram2dcontour": [
           {
            "colorbar": {
             "outlinewidth": 0,
             "ticks": ""
            },
            "colorscale": [
             [
              0,
              "#0d0887"
             ],
             [
              0.1111111111111111,
              "#46039f"
             ],
             [
              0.2222222222222222,
              "#7201a8"
             ],
             [
              0.3333333333333333,
              "#9c179e"
             ],
             [
              0.4444444444444444,
              "#bd3786"
             ],
             [
              0.5555555555555556,
              "#d8576b"
             ],
             [
              0.6666666666666666,
              "#ed7953"
             ],
             [
              0.7777777777777778,
              "#fb9f3a"
             ],
             [
              0.8888888888888888,
              "#fdca26"
             ],
             [
              1,
              "#f0f921"
             ]
            ],
            "type": "histogram2dcontour"
           }
          ],
          "mesh3d": [
           {
            "colorbar": {
             "outlinewidth": 0,
             "ticks": ""
            },
            "type": "mesh3d"
           }
          ],
          "parcoords": [
           {
            "line": {
             "colorbar": {
              "outlinewidth": 0,
              "ticks": ""
             }
            },
            "type": "parcoords"
           }
          ],
          "pie": [
           {
            "automargin": true,
            "type": "pie"
           }
          ],
          "scatter": [
           {
            "fillpattern": {
             "fillmode": "overlay",
             "size": 10,
             "solidity": 0.2
            },
            "type": "scatter"
           }
          ],
          "scatter3d": [
           {
            "line": {
             "colorbar": {
              "outlinewidth": 0,
              "ticks": ""
             }
            },
            "marker": {
             "colorbar": {
              "outlinewidth": 0,
              "ticks": ""
             }
            },
            "type": "scatter3d"
           }
          ],
          "scattercarpet": [
           {
            "marker": {
             "colorbar": {
              "outlinewidth": 0,
              "ticks": ""
             }
            },
            "type": "scattercarpet"
           }
          ],
          "scattergeo": [
           {
            "marker": {
             "colorbar": {
              "outlinewidth": 0,
              "ticks": ""
             }
            },
            "type": "scattergeo"
           }
          ],
          "scattergl": [
           {
            "marker": {
             "colorbar": {
              "outlinewidth": 0,
              "ticks": ""
             }
            },
            "type": "scattergl"
           }
          ],
          "scattermapbox": [
           {
            "marker": {
             "colorbar": {
              "outlinewidth": 0,
              "ticks": ""
             }
            },
            "type": "scattermapbox"
           }
          ],
          "scatterpolar": [
           {
            "marker": {
             "colorbar": {
              "outlinewidth": 0,
              "ticks": ""
             }
            },
            "type": "scatterpolar"
           }
          ],
          "scatterpolargl": [
           {
            "marker": {
             "colorbar": {
              "outlinewidth": 0,
              "ticks": ""
             }
            },
            "type": "scatterpolargl"
           }
          ],
          "scatterternary": [
           {
            "marker": {
             "colorbar": {
              "outlinewidth": 0,
              "ticks": ""
             }
            },
            "type": "scatterternary"
           }
          ],
          "surface": [
           {
            "colorbar": {
             "outlinewidth": 0,
             "ticks": ""
            },
            "colorscale": [
             [
              0,
              "#0d0887"
             ],
             [
              0.1111111111111111,
              "#46039f"
             ],
             [
              0.2222222222222222,
              "#7201a8"
             ],
             [
              0.3333333333333333,
              "#9c179e"
             ],
             [
              0.4444444444444444,
              "#bd3786"
             ],
             [
              0.5555555555555556,
              "#d8576b"
             ],
             [
              0.6666666666666666,
              "#ed7953"
             ],
             [
              0.7777777777777778,
              "#fb9f3a"
             ],
             [
              0.8888888888888888,
              "#fdca26"
             ],
             [
              1,
              "#f0f921"
             ]
            ],
            "type": "surface"
           }
          ],
          "table": [
           {
            "cells": {
             "fill": {
              "color": "#EBF0F8"
             },
             "line": {
              "color": "white"
             }
            },
            "header": {
             "fill": {
              "color": "#C8D4E3"
             },
             "line": {
              "color": "white"
             }
            },
            "type": "table"
           }
          ]
         },
         "layout": {
          "annotationdefaults": {
           "arrowcolor": "#2a3f5f",
           "arrowhead": 0,
           "arrowwidth": 1
          },
          "autotypenumbers": "strict",
          "coloraxis": {
           "colorbar": {
            "outlinewidth": 0,
            "ticks": ""
           }
          },
          "colorscale": {
           "diverging": [
            [
             0,
             "#8e0152"
            ],
            [
             0.1,
             "#c51b7d"
            ],
            [
             0.2,
             "#de77ae"
            ],
            [
             0.3,
             "#f1b6da"
            ],
            [
             0.4,
             "#fde0ef"
            ],
            [
             0.5,
             "#f7f7f7"
            ],
            [
             0.6,
             "#e6f5d0"
            ],
            [
             0.7,
             "#b8e186"
            ],
            [
             0.8,
             "#7fbc41"
            ],
            [
             0.9,
             "#4d9221"
            ],
            [
             1,
             "#276419"
            ]
           ],
           "sequential": [
            [
             0,
             "#0d0887"
            ],
            [
             0.1111111111111111,
             "#46039f"
            ],
            [
             0.2222222222222222,
             "#7201a8"
            ],
            [
             0.3333333333333333,
             "#9c179e"
            ],
            [
             0.4444444444444444,
             "#bd3786"
            ],
            [
             0.5555555555555556,
             "#d8576b"
            ],
            [
             0.6666666666666666,
             "#ed7953"
            ],
            [
             0.7777777777777778,
             "#fb9f3a"
            ],
            [
             0.8888888888888888,
             "#fdca26"
            ],
            [
             1,
             "#f0f921"
            ]
           ],
           "sequentialminus": [
            [
             0,
             "#0d0887"
            ],
            [
             0.1111111111111111,
             "#46039f"
            ],
            [
             0.2222222222222222,
             "#7201a8"
            ],
            [
             0.3333333333333333,
             "#9c179e"
            ],
            [
             0.4444444444444444,
             "#bd3786"
            ],
            [
             0.5555555555555556,
             "#d8576b"
            ],
            [
             0.6666666666666666,
             "#ed7953"
            ],
            [
             0.7777777777777778,
             "#fb9f3a"
            ],
            [
             0.8888888888888888,
             "#fdca26"
            ],
            [
             1,
             "#f0f921"
            ]
           ]
          },
          "colorway": [
           "#636efa",
           "#EF553B",
           "#00cc96",
           "#ab63fa",
           "#FFA15A",
           "#19d3f3",
           "#FF6692",
           "#B6E880",
           "#FF97FF",
           "#FECB52"
          ],
          "font": {
           "color": "#2a3f5f"
          },
          "geo": {
           "bgcolor": "white",
           "lakecolor": "white",
           "landcolor": "#E5ECF6",
           "showlakes": true,
           "showland": true,
           "subunitcolor": "white"
          },
          "hoverlabel": {
           "align": "left"
          },
          "hovermode": "closest",
          "mapbox": {
           "style": "light"
          },
          "paper_bgcolor": "white",
          "plot_bgcolor": "#E5ECF6",
          "polar": {
           "angularaxis": {
            "gridcolor": "white",
            "linecolor": "white",
            "ticks": ""
           },
           "bgcolor": "#E5ECF6",
           "radialaxis": {
            "gridcolor": "white",
            "linecolor": "white",
            "ticks": ""
           }
          },
          "scene": {
           "xaxis": {
            "backgroundcolor": "#E5ECF6",
            "gridcolor": "white",
            "gridwidth": 2,
            "linecolor": "white",
            "showbackground": true,
            "ticks": "",
            "zerolinecolor": "white"
           },
           "yaxis": {
            "backgroundcolor": "#E5ECF6",
            "gridcolor": "white",
            "gridwidth": 2,
            "linecolor": "white",
            "showbackground": true,
            "ticks": "",
            "zerolinecolor": "white"
           },
           "zaxis": {
            "backgroundcolor": "#E5ECF6",
            "gridcolor": "white",
            "gridwidth": 2,
            "linecolor": "white",
            "showbackground": true,
            "ticks": "",
            "zerolinecolor": "white"
           }
          },
          "shapedefaults": {
           "line": {
            "color": "#2a3f5f"
           }
          },
          "ternary": {
           "aaxis": {
            "gridcolor": "white",
            "linecolor": "white",
            "ticks": ""
           },
           "baxis": {
            "gridcolor": "white",
            "linecolor": "white",
            "ticks": ""
           },
           "bgcolor": "#E5ECF6",
           "caxis": {
            "gridcolor": "white",
            "linecolor": "white",
            "ticks": ""
           }
          },
          "title": {
           "x": 0.05
          },
          "xaxis": {
           "automargin": true,
           "gridcolor": "white",
           "linecolor": "white",
           "ticks": "",
           "title": {
            "standoff": 15
           },
           "zerolinecolor": "white",
           "zerolinewidth": 2
          },
          "yaxis": {
           "automargin": true,
           "gridcolor": "white",
           "linecolor": "white",
           "ticks": "",
           "title": {
            "standoff": 15
           },
           "zerolinecolor": "white",
           "zerolinewidth": 2
          }
         }
        }
       }
      }
     },
     "metadata": {},
     "output_type": "display_data"
    }
   ],
   "source": [
    "import plotly.graph_objects as go\n",
    "\n",
    "fig = go.Figure()\n",
    "\n",
    "# Add a table (as a plane)\n",
    "fig.add_trace(go.Mesh3d(x=[0, 1, 1, 0], y=[0, 0, 1, 1], z=[0, 0, 0, 0], color='lightblue', opacity=0.50))\n",
    "\n",
    "# Add some spheres (balls)\n",
    "import numpy as np\n",
    "def create_sphere(center, radius, color):\n",
    "    u, v = np.mgrid[0:2*np.pi:20j, 0:np.pi:10j]\n",
    "    x = center[0] + radius * np.cos(u) * np.sin(v)\n",
    "    y = center[1] + radius * np.sin(u) * np.sin(v)\n",
    "    z = center[2] + radius * np.cos(v)\n",
    "    return go.Surface(x=x, y=y, z=z, colorscale=[[0, color], [1, color]])\n",
    "\n",
    "fig.add_trace(create_sphere([0.5, 0.5, 0.5], 0.1, 'red'))\n",
    "fig.add_trace(create_sphere([0.7, 0.3, 0.2], 0.1, 'blue'))\n",
    "\n",
    "fig.show()\n"
   ]
  },
  {
   "cell_type": "code",
   "execution_count": 2,
   "metadata": {},
   "outputs": [
    {
     "data": {
      "application/vnd.plotly.v1+json": {
       "config": {
        "plotlyServerURL": "https://plot.ly"
       },
       "data": [
        {
         "alphahull": 0,
         "color": "lightblue",
         "opacity": 0.5,
         "type": "mesh3d",
         "x": [
          1,
          -1,
          -1,
          1,
          1
         ],
         "y": [
          0.5,
          0.5,
          -0.5,
          -0.5,
          0.5
         ],
         "z": [
          0,
          0,
          0,
          0,
          0
         ]
        },
        {
         "colorscale": [
          [
           0,
           "red"
          ],
          [
           1,
           "red"
          ]
         ],
         "showscale": false,
         "type": "surface",
         "x": [
          [
           0.5,
           0.5684040286651337,
           0.6285575219373079,
           0.6732050807568877,
           0.6969615506024416,
           0.6969615506024416,
           0.6732050807568878,
           0.6285575219373079,
           0.5684040286651337,
           0.5
          ],
          [
           0.5,
           0.5646977097132679,
           0.6215919207986134,
           0.6638203517300152,
           0.6862896305118813,
           0.6862896305118813,
           0.6638203517300152,
           0.6215919207986134,
           0.5646977097132679,
           0.5
          ],
          [
           0.5,
           0.5539803900255692,
           0.6014499483483452,
           0.6366831456585339,
           0.6554303383739144,
           0.6554303383739144,
           0.6366831456585339,
           0.6014499483483452,
           0.5539803900255692,
           0.5
          ],
          [
           0.5,
           0.5374134574865486,
           0.570314299836394,
           0.5947341998974259,
           0.6077277573229427,
           0.6077277573229427,
           0.594734199897426,
           0.570314299836394,
           0.5374134574865486,
           0.5
          ],
          [
           0.5,
           0.5167921962992535,
           0.531559005898394,
           0.542519333624866,
           0.5483512021976475,
           0.5483512021976475,
           0.542519333624866,
           0.531559005898394,
           0.5167921962992535,
           0.5
          ],
          [
           0.5,
           0.4943512400851626,
           0.4893838039828721,
           0.4856968377986138,
           0.4837350440680347,
           0.4837350440680347,
           0.4856968377986138,
           0.4893838039828721,
           0.4943512400851626,
           0.5
          ],
          [
           0.5,
           0.4725224146573852,
           0.4483590316330597,
           0.4304243115333102,
           0.42088144629044494,
           0.42088144629044494,
           0.4304243115333101,
           0.4483590316330597,
           0.4725224146573852,
           0.5
          ],
          [
           0.5,
           0.453671211960146,
           0.4129303594979895,
           0.3826913906914117,
           0.36660157145813543,
           0.36660157145813543,
           0.38269139069141167,
           0.41293035949798945,
           0.453671211960146,
           0.5
          ],
          [
           0.5,
           0.4398404523122386,
           0.38693703393598533,
           0.3476706778987171,
           0.326777486248224,
           0.326777486248224,
           0.3476706778987171,
           0.38693703393598533,
           0.4398404523122386,
           0.5
          ],
          [
           0.5,
           0.4325289131278615,
           0.37319583509969295,
           0.32915721078866245,
           0.30572474822755447,
           0.30572474822755447,
           0.32915721078866245,
           0.3731958350996929,
           0.43252891312786146,
           0.5
          ],
          [
           0.5,
           0.4325289131278615,
           0.37319583509969295,
           0.32915721078866245,
           0.30572474822755447,
           0.30572474822755447,
           0.32915721078866245,
           0.3731958350996929,
           0.43252891312786146,
           0.5
          ],
          [
           0.5,
           0.4398404523122386,
           0.38693703393598533,
           0.3476706778987171,
           0.32677748624822395,
           0.32677748624822395,
           0.3476706778987171,
           0.38693703393598533,
           0.43984045231223856,
           0.5
          ],
          [
           0.5,
           0.4536712119601459,
           0.4129303594979894,
           0.3826913906914116,
           0.3666015714581353,
           0.3666015714581353,
           0.3826913906914116,
           0.4129303594979894,
           0.4536712119601459,
           0.5
          ],
          [
           0.5,
           0.4725224146573852,
           0.4483590316330596,
           0.43042431153331007,
           0.42088144629044477,
           0.42088144629044477,
           0.43042431153331,
           0.4483590316330596,
           0.47252241465738515,
           0.5
          ],
          [
           0.5,
           0.49435124008516257,
           0.48938380398287207,
           0.48569683779861367,
           0.48373504406803464,
           0.48373504406803464,
           0.48569683779861367,
           0.48938380398287207,
           0.49435124008516257,
           0.5
          ],
          [
           0.5,
           0.5167921962992535,
           0.531559005898394,
           0.5425193336248659,
           0.5483512021976474,
           0.5483512021976474,
           0.5425193336248659,
           0.531559005898394,
           0.5167921962992535,
           0.5
          ],
          [
           0.5,
           0.5374134574865486,
           0.5703142998363939,
           0.5947341998974259,
           0.6077277573229426,
           0.6077277573229426,
           0.5947341998974259,
           0.570314299836394,
           0.5374134574865486,
           0.5
          ],
          [
           0.5,
           0.5539803900255691,
           0.6014499483483451,
           0.6366831456585338,
           0.6554303383739143,
           0.6554303383739143,
           0.6366831456585338,
           0.6014499483483452,
           0.5539803900255692,
           0.5
          ],
          [
           0.5,
           0.5646977097132679,
           0.6215919207986134,
           0.6638203517300152,
           0.6862896305118813,
           0.6862896305118813,
           0.6638203517300152,
           0.6215919207986134,
           0.5646977097132679,
           0.5
          ],
          [
           0.5,
           0.5684040286651337,
           0.6285575219373079,
           0.6732050807568877,
           0.6969615506024416,
           0.6969615506024416,
           0.6732050807568878,
           0.6285575219373079,
           0.5684040286651337,
           0.5
          ]
         ],
         "y": [
          [
           0.5,
           0.5,
           0.5,
           0.5,
           0.5,
           0.5,
           0.5,
           0.5,
           0.5,
           0.5
          ],
          [
           0.5,
           0.5222107517990309,
           0.5417425591353133,
           0.5562395977853157,
           0.5639533109343442,
           0.5639533109343442,
           0.5562395977853158,
           0.5417425591353133,
           0.5222107517990309,
           0.5
          ],
          [
           0.5,
           0.5420146240053136,
           0.5789616642857753,
           0.606384762503321,
           0.620976288291089,
           0.620976288291089,
           0.606384762503321,
           0.5789616642857753,
           0.5420146240053136,
           0.5
          ],
          [
           0.5,
           0.5572655597765591,
           0.6076240478944138,
           0.6450014874744205,
           0.6648896076709728,
           0.6648896076709728,
           0.6450014874744205,
           0.6076240478944138,
           0.5572655597765591,
           0.5
          ],
          [
           0.5,
           0.5663108835793023,
           0.6246236959545275,
           0.6679050513477701,
           0.6909345795338298,
           0.6909345795338298,
           0.6679050513477702,
           0.6246236959545276,
           0.5663108835793023,
           0.5
          ],
          [
           0.5,
           0.568170394226856,
           0.6281184328220858,
           0.6726134975922823,
           0.6962888270489418,
           0.6962888270489418,
           0.6726134975922823,
           0.6281184328220858,
           0.5681703942268561,
           0.5
          ],
          [
           0.5,
           0.5626425848872775,
           0.617729549531059,
           0.658616592998293,
           0.6803721344183364,
           0.6803721344183364,
           0.658616592998293,
           0.617729549531059,
           0.5626425848872775,
           0.5
          ],
          [
           0.5,
           0.5503264794753092,
           0.594582842786163,
           0.6274311193629131,
           0.6449093222614724,
           0.6449093222614724,
           0.6274311193629131,
           0.5945828427861631,
           0.5503264794753092,
           0.5
          ],
          [
           0.5,
           0.5325567191164037,
           0.5611866174213681,
           0.5824365066470165,
           0.5937433365377718,
           0.5937433365377718,
           0.5824365066470165,
           0.5611866174213681,
           0.5325567191164037,
           0.5
          ],
          [
           0.5,
           0.5112589330716892,
           0.5211598726507777,
           0.5285086193017214,
           0.5324188057224669,
           0.5324188057224669,
           0.5285086193017214,
           0.5211598726507777,
           0.5112589330716892,
           0.5
          ],
          [
           0.5,
           0.48874106692831076,
           0.4788401273492224,
           0.4714913806982787,
           0.4675811942775331,
           0.4675811942775331,
           0.4714913806982787,
           0.4788401273492224,
           0.48874106692831076,
           0.5
          ],
          [
           0.5,
           0.4674432808835963,
           0.43881338257863195,
           0.4175634933529835,
           0.4062566634622283,
           0.4062566634622283,
           0.4175634933529835,
           0.4388133825786319,
           0.4674432808835963,
           0.5
          ],
          [
           0.5,
           0.44967352052469084,
           0.405417157213837,
           0.37256888063708704,
           0.3550906777385278,
           0.3550906777385278,
           0.37256888063708704,
           0.405417157213837,
           0.4496735205246908,
           0.5
          ],
          [
           0.5,
           0.4373574151127226,
           0.3822704504689411,
           0.3413834070017071,
           0.3196278655816637,
           0.3196278655816637,
           0.34138340700170705,
           0.38227045046894104,
           0.4373574151127225,
           0.5
          ],
          [
           0.5,
           0.431829605773144,
           0.3718815671779142,
           0.3273865024077177,
           0.3037111729510582,
           0.3037111729510582,
           0.3273865024077177,
           0.3718815671779142,
           0.43182960577314394,
           0.5
          ],
          [
           0.5,
           0.43368911642069774,
           0.37537630404547245,
           0.3320949486522298,
           0.3090654204661702,
           0.3090654204661702,
           0.33209494865222977,
           0.3753763040454724,
           0.43368911642069774,
           0.5
          ],
          [
           0.5,
           0.44273444022344094,
           0.3923759521055862,
           0.35499851252557946,
           0.3351103923290271,
           0.3351103923290271,
           0.3549985125255794,
           0.3923759521055862,
           0.4427344402234409,
           0.5
          ],
          [
           0.5,
           0.45798537599468636,
           0.42103833571422467,
           0.393615237496679,
           0.379023711708911,
           0.379023711708911,
           0.3936152374966789,
           0.4210383357142246,
           0.45798537599468636,
           0.5
          ],
          [
           0.5,
           0.47778924820096913,
           0.45825744086468667,
           0.44376040221468416,
           0.43604668906565575,
           0.43604668906565575,
           0.44376040221468416,
           0.4582574408646866,
           0.4777892482009691,
           0.5
          ],
          [
           0.5,
           0.5,
           0.49999999999999994,
           0.49999999999999994,
           0.49999999999999994,
           0.49999999999999994,
           0.49999999999999994,
           0.49999999999999994,
           0.5,
           0.5
          ]
         ],
         "z": [
          [
           0.7,
           0.6879385241571817,
           0.6532088886237957,
           0.6000000000000001,
           0.534729635533386,
           0.46527036446661396,
           0.4,
           0.34679111137620444,
           0.3120614758428183,
           0.3
          ],
          [
           0.7,
           0.6879385241571817,
           0.6532088886237957,
           0.6000000000000001,
           0.534729635533386,
           0.46527036446661396,
           0.4,
           0.34679111137620444,
           0.3120614758428183,
           0.3
          ],
          [
           0.7,
           0.6879385241571817,
           0.6532088886237957,
           0.6000000000000001,
           0.534729635533386,
           0.46527036446661396,
           0.4,
           0.34679111137620444,
           0.3120614758428183,
           0.3
          ],
          [
           0.7,
           0.6879385241571817,
           0.6532088886237957,
           0.6000000000000001,
           0.534729635533386,
           0.46527036446661396,
           0.4,
           0.34679111137620444,
           0.3120614758428183,
           0.3
          ],
          [
           0.7,
           0.6879385241571817,
           0.6532088886237957,
           0.6000000000000001,
           0.534729635533386,
           0.46527036446661396,
           0.4,
           0.34679111137620444,
           0.3120614758428183,
           0.3
          ],
          [
           0.7,
           0.6879385241571817,
           0.6532088886237957,
           0.6000000000000001,
           0.534729635533386,
           0.46527036446661396,
           0.4,
           0.34679111137620444,
           0.3120614758428183,
           0.3
          ],
          [
           0.7,
           0.6879385241571817,
           0.6532088886237957,
           0.6000000000000001,
           0.534729635533386,
           0.46527036446661396,
           0.4,
           0.34679111137620444,
           0.3120614758428183,
           0.3
          ],
          [
           0.7,
           0.6879385241571817,
           0.6532088886237957,
           0.6000000000000001,
           0.534729635533386,
           0.46527036446661396,
           0.4,
           0.34679111137620444,
           0.3120614758428183,
           0.3
          ],
          [
           0.7,
           0.6879385241571817,
           0.6532088886237957,
           0.6000000000000001,
           0.534729635533386,
           0.46527036446661396,
           0.4,
           0.34679111137620444,
           0.3120614758428183,
           0.3
          ],
          [
           0.7,
           0.6879385241571817,
           0.6532088886237957,
           0.6000000000000001,
           0.534729635533386,
           0.46527036446661396,
           0.4,
           0.34679111137620444,
           0.3120614758428183,
           0.3
          ],
          [
           0.7,
           0.6879385241571817,
           0.6532088886237957,
           0.6000000000000001,
           0.534729635533386,
           0.46527036446661396,
           0.4,
           0.34679111137620444,
           0.3120614758428183,
           0.3
          ],
          [
           0.7,
           0.6879385241571817,
           0.6532088886237957,
           0.6000000000000001,
           0.534729635533386,
           0.46527036446661396,
           0.4,
           0.34679111137620444,
           0.3120614758428183,
           0.3
          ],
          [
           0.7,
           0.6879385241571817,
           0.6532088886237957,
           0.6000000000000001,
           0.534729635533386,
           0.46527036446661396,
           0.4,
           0.34679111137620444,
           0.3120614758428183,
           0.3
          ],
          [
           0.7,
           0.6879385241571817,
           0.6532088886237957,
           0.6000000000000001,
           0.534729635533386,
           0.46527036446661396,
           0.4,
           0.34679111137620444,
           0.3120614758428183,
           0.3
          ],
          [
           0.7,
           0.6879385241571817,
           0.6532088886237957,
           0.6000000000000001,
           0.534729635533386,
           0.46527036446661396,
           0.4,
           0.34679111137620444,
           0.3120614758428183,
           0.3
          ],
          [
           0.7,
           0.6879385241571817,
           0.6532088886237957,
           0.6000000000000001,
           0.534729635533386,
           0.46527036446661396,
           0.4,
           0.34679111137620444,
           0.3120614758428183,
           0.3
          ],
          [
           0.7,
           0.6879385241571817,
           0.6532088886237957,
           0.6000000000000001,
           0.534729635533386,
           0.46527036446661396,
           0.4,
           0.34679111137620444,
           0.3120614758428183,
           0.3
          ],
          [
           0.7,
           0.6879385241571817,
           0.6532088886237957,
           0.6000000000000001,
           0.534729635533386,
           0.46527036446661396,
           0.4,
           0.34679111137620444,
           0.3120614758428183,
           0.3
          ],
          [
           0.7,
           0.6879385241571817,
           0.6532088886237957,
           0.6000000000000001,
           0.534729635533386,
           0.46527036446661396,
           0.4,
           0.34679111137620444,
           0.3120614758428183,
           0.3
          ],
          [
           0.7,
           0.6879385241571817,
           0.6532088886237957,
           0.6000000000000001,
           0.534729635533386,
           0.46527036446661396,
           0.4,
           0.34679111137620444,
           0.3120614758428183,
           0.3
          ]
         ]
        },
        {
         "color": "orange",
         "i": [
          0,
          0,
          1,
          2,
          0,
          3
         ],
         "j": [
          1,
          1,
          4,
          4,
          2,
          5
         ],
         "k": [
          4,
          5,
          7,
          7,
          6,
          7
         ],
         "opacity": 0.7,
         "type": "mesh3d",
         "x": [
          1,
          1.816496580927726,
          1,
          1.1732050807568877,
          1.816496580927726,
          1.9897016616846137,
          1.1732050807568877,
          1.9897016616846137
         ],
         "y": [
          1,
          0.591751709536137,
          1.3535533905932737,
          1.1732050807568877,
          0.9453051001294108,
          0.7649567902930248,
          1.5267584713501614,
          1.1185101808862985
         ],
         "z": [
          0,
          -0.408248290463863,
          -0.3535533905932738,
          0.17320508075688776,
          -0.7618016810571369,
          -0.23504320970697526,
          -0.18034830983638603,
          -0.5885966003002491
         ]
        }
       ],
       "layout": {
        "scene": {
         "aspectmode": "data"
        },
        "template": {
         "data": {
          "bar": [
           {
            "error_x": {
             "color": "#2a3f5f"
            },
            "error_y": {
             "color": "#2a3f5f"
            },
            "marker": {
             "line": {
              "color": "#E5ECF6",
              "width": 0.5
             },
             "pattern": {
              "fillmode": "overlay",
              "size": 10,
              "solidity": 0.2
             }
            },
            "type": "bar"
           }
          ],
          "barpolar": [
           {
            "marker": {
             "line": {
              "color": "#E5ECF6",
              "width": 0.5
             },
             "pattern": {
              "fillmode": "overlay",
              "size": 10,
              "solidity": 0.2
             }
            },
            "type": "barpolar"
           }
          ],
          "carpet": [
           {
            "aaxis": {
             "endlinecolor": "#2a3f5f",
             "gridcolor": "white",
             "linecolor": "white",
             "minorgridcolor": "white",
             "startlinecolor": "#2a3f5f"
            },
            "baxis": {
             "endlinecolor": "#2a3f5f",
             "gridcolor": "white",
             "linecolor": "white",
             "minorgridcolor": "white",
             "startlinecolor": "#2a3f5f"
            },
            "type": "carpet"
           }
          ],
          "choropleth": [
           {
            "colorbar": {
             "outlinewidth": 0,
             "ticks": ""
            },
            "type": "choropleth"
           }
          ],
          "contour": [
           {
            "colorbar": {
             "outlinewidth": 0,
             "ticks": ""
            },
            "colorscale": [
             [
              0,
              "#0d0887"
             ],
             [
              0.1111111111111111,
              "#46039f"
             ],
             [
              0.2222222222222222,
              "#7201a8"
             ],
             [
              0.3333333333333333,
              "#9c179e"
             ],
             [
              0.4444444444444444,
              "#bd3786"
             ],
             [
              0.5555555555555556,
              "#d8576b"
             ],
             [
              0.6666666666666666,
              "#ed7953"
             ],
             [
              0.7777777777777778,
              "#fb9f3a"
             ],
             [
              0.8888888888888888,
              "#fdca26"
             ],
             [
              1,
              "#f0f921"
             ]
            ],
            "type": "contour"
           }
          ],
          "contourcarpet": [
           {
            "colorbar": {
             "outlinewidth": 0,
             "ticks": ""
            },
            "type": "contourcarpet"
           }
          ],
          "heatmap": [
           {
            "colorbar": {
             "outlinewidth": 0,
             "ticks": ""
            },
            "colorscale": [
             [
              0,
              "#0d0887"
             ],
             [
              0.1111111111111111,
              "#46039f"
             ],
             [
              0.2222222222222222,
              "#7201a8"
             ],
             [
              0.3333333333333333,
              "#9c179e"
             ],
             [
              0.4444444444444444,
              "#bd3786"
             ],
             [
              0.5555555555555556,
              "#d8576b"
             ],
             [
              0.6666666666666666,
              "#ed7953"
             ],
             [
              0.7777777777777778,
              "#fb9f3a"
             ],
             [
              0.8888888888888888,
              "#fdca26"
             ],
             [
              1,
              "#f0f921"
             ]
            ],
            "type": "heatmap"
           }
          ],
          "heatmapgl": [
           {
            "colorbar": {
             "outlinewidth": 0,
             "ticks": ""
            },
            "colorscale": [
             [
              0,
              "#0d0887"
             ],
             [
              0.1111111111111111,
              "#46039f"
             ],
             [
              0.2222222222222222,
              "#7201a8"
             ],
             [
              0.3333333333333333,
              "#9c179e"
             ],
             [
              0.4444444444444444,
              "#bd3786"
             ],
             [
              0.5555555555555556,
              "#d8576b"
             ],
             [
              0.6666666666666666,
              "#ed7953"
             ],
             [
              0.7777777777777778,
              "#fb9f3a"
             ],
             [
              0.8888888888888888,
              "#fdca26"
             ],
             [
              1,
              "#f0f921"
             ]
            ],
            "type": "heatmapgl"
           }
          ],
          "histogram": [
           {
            "marker": {
             "pattern": {
              "fillmode": "overlay",
              "size": 10,
              "solidity": 0.2
             }
            },
            "type": "histogram"
           }
          ],
          "histogram2d": [
           {
            "colorbar": {
             "outlinewidth": 0,
             "ticks": ""
            },
            "colorscale": [
             [
              0,
              "#0d0887"
             ],
             [
              0.1111111111111111,
              "#46039f"
             ],
             [
              0.2222222222222222,
              "#7201a8"
             ],
             [
              0.3333333333333333,
              "#9c179e"
             ],
             [
              0.4444444444444444,
              "#bd3786"
             ],
             [
              0.5555555555555556,
              "#d8576b"
             ],
             [
              0.6666666666666666,
              "#ed7953"
             ],
             [
              0.7777777777777778,
              "#fb9f3a"
             ],
             [
              0.8888888888888888,
              "#fdca26"
             ],
             [
              1,
              "#f0f921"
             ]
            ],
            "type": "histogram2d"
           }
          ],
          "histogram2dcontour": [
           {
            "colorbar": {
             "outlinewidth": 0,
             "ticks": ""
            },
            "colorscale": [
             [
              0,
              "#0d0887"
             ],
             [
              0.1111111111111111,
              "#46039f"
             ],
             [
              0.2222222222222222,
              "#7201a8"
             ],
             [
              0.3333333333333333,
              "#9c179e"
             ],
             [
              0.4444444444444444,
              "#bd3786"
             ],
             [
              0.5555555555555556,
              "#d8576b"
             ],
             [
              0.6666666666666666,
              "#ed7953"
             ],
             [
              0.7777777777777778,
              "#fb9f3a"
             ],
             [
              0.8888888888888888,
              "#fdca26"
             ],
             [
              1,
              "#f0f921"
             ]
            ],
            "type": "histogram2dcontour"
           }
          ],
          "mesh3d": [
           {
            "colorbar": {
             "outlinewidth": 0,
             "ticks": ""
            },
            "type": "mesh3d"
           }
          ],
          "parcoords": [
           {
            "line": {
             "colorbar": {
              "outlinewidth": 0,
              "ticks": ""
             }
            },
            "type": "parcoords"
           }
          ],
          "pie": [
           {
            "automargin": true,
            "type": "pie"
           }
          ],
          "scatter": [
           {
            "fillpattern": {
             "fillmode": "overlay",
             "size": 10,
             "solidity": 0.2
            },
            "type": "scatter"
           }
          ],
          "scatter3d": [
           {
            "line": {
             "colorbar": {
              "outlinewidth": 0,
              "ticks": ""
             }
            },
            "marker": {
             "colorbar": {
              "outlinewidth": 0,
              "ticks": ""
             }
            },
            "type": "scatter3d"
           }
          ],
          "scattercarpet": [
           {
            "marker": {
             "colorbar": {
              "outlinewidth": 0,
              "ticks": ""
             }
            },
            "type": "scattercarpet"
           }
          ],
          "scattergeo": [
           {
            "marker": {
             "colorbar": {
              "outlinewidth": 0,
              "ticks": ""
             }
            },
            "type": "scattergeo"
           }
          ],
          "scattergl": [
           {
            "marker": {
             "colorbar": {
              "outlinewidth": 0,
              "ticks": ""
             }
            },
            "type": "scattergl"
           }
          ],
          "scattermapbox": [
           {
            "marker": {
             "colorbar": {
              "outlinewidth": 0,
              "ticks": ""
             }
            },
            "type": "scattermapbox"
           }
          ],
          "scatterpolar": [
           {
            "marker": {
             "colorbar": {
              "outlinewidth": 0,
              "ticks": ""
             }
            },
            "type": "scatterpolar"
           }
          ],
          "scatterpolargl": [
           {
            "marker": {
             "colorbar": {
              "outlinewidth": 0,
              "ticks": ""
             }
            },
            "type": "scatterpolargl"
           }
          ],
          "scatterternary": [
           {
            "marker": {
             "colorbar": {
              "outlinewidth": 0,
              "ticks": ""
             }
            },
            "type": "scatterternary"
           }
          ],
          "surface": [
           {
            "colorbar": {
             "outlinewidth": 0,
             "ticks": ""
            },
            "colorscale": [
             [
              0,
              "#0d0887"
             ],
             [
              0.1111111111111111,
              "#46039f"
             ],
             [
              0.2222222222222222,
              "#7201a8"
             ],
             [
              0.3333333333333333,
              "#9c179e"
             ],
             [
              0.4444444444444444,
              "#bd3786"
             ],
             [
              0.5555555555555556,
              "#d8576b"
             ],
             [
              0.6666666666666666,
              "#ed7953"
             ],
             [
              0.7777777777777778,
              "#fb9f3a"
             ],
             [
              0.8888888888888888,
              "#fdca26"
             ],
             [
              1,
              "#f0f921"
             ]
            ],
            "type": "surface"
           }
          ],
          "table": [
           {
            "cells": {
             "fill": {
              "color": "#EBF0F8"
             },
             "line": {
              "color": "white"
             }
            },
            "header": {
             "fill": {
              "color": "#C8D4E3"
             },
             "line": {
              "color": "white"
             }
            },
            "type": "table"
           }
          ]
         },
         "layout": {
          "annotationdefaults": {
           "arrowcolor": "#2a3f5f",
           "arrowhead": 0,
           "arrowwidth": 1
          },
          "autotypenumbers": "strict",
          "coloraxis": {
           "colorbar": {
            "outlinewidth": 0,
            "ticks": ""
           }
          },
          "colorscale": {
           "diverging": [
            [
             0,
             "#8e0152"
            ],
            [
             0.1,
             "#c51b7d"
            ],
            [
             0.2,
             "#de77ae"
            ],
            [
             0.3,
             "#f1b6da"
            ],
            [
             0.4,
             "#fde0ef"
            ],
            [
             0.5,
             "#f7f7f7"
            ],
            [
             0.6,
             "#e6f5d0"
            ],
            [
             0.7,
             "#b8e186"
            ],
            [
             0.8,
             "#7fbc41"
            ],
            [
             0.9,
             "#4d9221"
            ],
            [
             1,
             "#276419"
            ]
           ],
           "sequential": [
            [
             0,
             "#0d0887"
            ],
            [
             0.1111111111111111,
             "#46039f"
            ],
            [
             0.2222222222222222,
             "#7201a8"
            ],
            [
             0.3333333333333333,
             "#9c179e"
            ],
            [
             0.4444444444444444,
             "#bd3786"
            ],
            [
             0.5555555555555556,
             "#d8576b"
            ],
            [
             0.6666666666666666,
             "#ed7953"
            ],
            [
             0.7777777777777778,
             "#fb9f3a"
            ],
            [
             0.8888888888888888,
             "#fdca26"
            ],
            [
             1,
             "#f0f921"
            ]
           ],
           "sequentialminus": [
            [
             0,
             "#0d0887"
            ],
            [
             0.1111111111111111,
             "#46039f"
            ],
            [
             0.2222222222222222,
             "#7201a8"
            ],
            [
             0.3333333333333333,
             "#9c179e"
            ],
            [
             0.4444444444444444,
             "#bd3786"
            ],
            [
             0.5555555555555556,
             "#d8576b"
            ],
            [
             0.6666666666666666,
             "#ed7953"
            ],
            [
             0.7777777777777778,
             "#fb9f3a"
            ],
            [
             0.8888888888888888,
             "#fdca26"
            ],
            [
             1,
             "#f0f921"
            ]
           ]
          },
          "colorway": [
           "#636efa",
           "#EF553B",
           "#00cc96",
           "#ab63fa",
           "#FFA15A",
           "#19d3f3",
           "#FF6692",
           "#B6E880",
           "#FF97FF",
           "#FECB52"
          ],
          "font": {
           "color": "#2a3f5f"
          },
          "geo": {
           "bgcolor": "white",
           "lakecolor": "white",
           "landcolor": "#E5ECF6",
           "showlakes": true,
           "showland": true,
           "subunitcolor": "white"
          },
          "hoverlabel": {
           "align": "left"
          },
          "hovermode": "closest",
          "mapbox": {
           "style": "light"
          },
          "paper_bgcolor": "white",
          "plot_bgcolor": "#E5ECF6",
          "polar": {
           "angularaxis": {
            "gridcolor": "white",
            "linecolor": "white",
            "ticks": ""
           },
           "bgcolor": "#E5ECF6",
           "radialaxis": {
            "gridcolor": "white",
            "linecolor": "white",
            "ticks": ""
           }
          },
          "scene": {
           "xaxis": {
            "backgroundcolor": "#E5ECF6",
            "gridcolor": "white",
            "gridwidth": 2,
            "linecolor": "white",
            "showbackground": true,
            "ticks": "",
            "zerolinecolor": "white"
           },
           "yaxis": {
            "backgroundcolor": "#E5ECF6",
            "gridcolor": "white",
            "gridwidth": 2,
            "linecolor": "white",
            "showbackground": true,
            "ticks": "",
            "zerolinecolor": "white"
           },
           "zaxis": {
            "backgroundcolor": "#E5ECF6",
            "gridcolor": "white",
            "gridwidth": 2,
            "linecolor": "white",
            "showbackground": true,
            "ticks": "",
            "zerolinecolor": "white"
           }
          },
          "shapedefaults": {
           "line": {
            "color": "#2a3f5f"
           }
          },
          "ternary": {
           "aaxis": {
            "gridcolor": "white",
            "linecolor": "white",
            "ticks": ""
           },
           "baxis": {
            "gridcolor": "white",
            "linecolor": "white",
            "ticks": ""
           },
           "bgcolor": "#E5ECF6",
           "caxis": {
            "gridcolor": "white",
            "linecolor": "white",
            "ticks": ""
           }
          },
          "title": {
           "x": 0.05
          },
          "xaxis": {
           "automargin": true,
           "gridcolor": "white",
           "linecolor": "white",
           "ticks": "",
           "title": {
            "standoff": 15
           },
           "zerolinecolor": "white",
           "zerolinewidth": 2
          },
          "yaxis": {
           "automargin": true,
           "gridcolor": "white",
           "linecolor": "white",
           "ticks": "",
           "title": {
            "standoff": 15
           },
           "zerolinecolor": "white",
           "zerolinewidth": 2
          }
         }
        }
       }
      }
     },
     "metadata": {},
     "output_type": "display_data"
    }
   ],
   "source": [
    "import plotly.graph_objects as go\n",
    "import numpy as np\n",
    "\n",
    "def display_plane(normal, size, origin):\n",
    "    \"\"\"Display a plane in the shape of a rectangle.\n",
    "    \n",
    "    Args:\n",
    "        normal (tuple): Normal vector of the plane (nx, ny, nz).\n",
    "        size (tuple): Size of the rectangle (width, height).\n",
    "        origin (tuple): Origin of the rectangle (x, y, z).\n",
    "    \"\"\"\n",
    "    normal = np.array(normal) / np.linalg.norm(normal)  # Normalize normal vector\n",
    "    u = np.array([1, 0, 0]) if abs(normal[0]) < 0.9 else np.array([0, 1, 0])\n",
    "    v = np.cross(normal, u)\n",
    "    u = np.cross(v, normal)\n",
    "    u, v = u / np.linalg.norm(u), v / np.linalg.norm(v)\n",
    "    \n",
    "    w, h = size\n",
    "    corners = np.array([\n",
    "        origin + w/2 * u + h/2 * v,\n",
    "        origin - w/2 * u + h/2 * v,\n",
    "        origin - w/2 * u - h/2 * v,\n",
    "        origin + w/2 * u - h/2 * v,\n",
    "    ])\n",
    "    \n",
    "    x, y, z = corners[:, 0], corners[:, 1], corners[:, 2]\n",
    "    \n",
    "    return go.Mesh3d(\n",
    "        x=[*x, x[0]], y=[*y, y[0]], z=[*z, z[0]],\n",
    "        color='lightblue', opacity=0.5, alphahull=0\n",
    "    )\n",
    "\n",
    "def display_ball(position, radius, color):\n",
    "    \"\"\"Display a ball (sphere).\n",
    "    \n",
    "    Args:\n",
    "        position (tuple): (x, y, z) coordinates of the center.\n",
    "        radius (float): Radius of the sphere.\n",
    "        color (str): Color of the sphere.\n",
    "    \"\"\"\n",
    "    u, v = np.mgrid[0:2*np.pi:20j, 0:np.pi:10j]\n",
    "    x = position[0] + radius * np.cos(u) * np.sin(v)\n",
    "    y = position[1] + radius * np.sin(u) * np.sin(v)\n",
    "    z = position[2] + radius * np.cos(v)\n",
    "    \n",
    "    return go.Surface(x=x, y=y, z=z, colorscale=[[0, color], [1, color]], showscale=False)\n",
    "\n",
    "def display_parallelepiped(size, direction, origin=(0,0,0)):\n",
    "    \"\"\"Display a parallelepiped.\n",
    "    \n",
    "    Args:\n",
    "        size (tuple): (width, height, depth).\n",
    "        direction (tuple): A vector representing the \"facing\" direction.\n",
    "        origin (tuple): Bottom-left corner of the parallelepiped.\n",
    "    \"\"\"\n",
    "    direction = np.array(direction) / np.linalg.norm(direction)\n",
    "    u = np.array([1, 0, 0]) if abs(direction[0]) < 0.9 else np.array([0, 1, 0])\n",
    "    v = np.cross(direction, u)\n",
    "    u = np.cross(v, direction)\n",
    "    u, v = u / np.linalg.norm(u), v / np.linalg.norm(v)\n",
    "\n",
    "    w, h, d = size\n",
    "    corners = np.array([\n",
    "        origin,\n",
    "        origin + w * u,\n",
    "        origin + h * v,\n",
    "        origin + d * direction,\n",
    "        origin + w * u + h * v,\n",
    "        origin + w * u + d * direction,\n",
    "        origin + h * v + d * direction,\n",
    "        origin + w * u + h * v + d * direction\n",
    "    ])\n",
    "    \n",
    "    x, y, z = corners[:, 0], corners[:, 1], corners[:, 2]\n",
    "\n",
    "    faces = [\n",
    "        [0, 1, 4, 2],  # Bottom\n",
    "        [0, 1, 5, 3],  # Side\n",
    "        [1, 4, 7, 5],  # Side\n",
    "        [2, 4, 7, 6],  # Side\n",
    "        [0, 2, 6, 3],  # Side\n",
    "        [3, 5, 7, 6]   # Top\n",
    "    ]\n",
    "\n",
    "    return go.Mesh3d(\n",
    "        x=x, y=y, z=z,\n",
    "        i=[face[0] for face in faces],\n",
    "        j=[face[1] for face in faces],\n",
    "        k=[face[2] for face in faces],\n",
    "        color=\"orange\", opacity=0.7\n",
    "    )\n",
    "\n",
    "# Create figure\n",
    "fig = go.Figure()\n",
    "\n",
    "# Add plane\n",
    "fig.add_trace(display_plane((0, 0, 1), (2, 1), (0, 0, 0)))\n",
    "\n",
    "# Add ball\n",
    "fig.add_trace(display_ball((0.5, 0.5, 0.5), 0.2, \"red\"))\n",
    "\n",
    "# Add parallelepiped\n",
    "fig.add_trace(display_parallelepiped((1, 0.5, 0.3), (1, 1, 1), (1, 1, 0)))\n",
    "\n",
    "fig.update_layout(scene=dict(aspectmode=\"data\"))\n",
    "fig.show()\n"
   ]
  }
 ],
 "metadata": {
  "kernelspec": {
   "display_name": "Python 3",
   "language": "python",
   "name": "python3"
  },
  "language_info": {
   "codemirror_mode": {
    "name": "ipython",
    "version": 3
   },
   "file_extension": ".py",
   "mimetype": "text/x-python",
   "name": "python",
   "nbconvert_exporter": "python",
   "pygments_lexer": "ipython3",
   "version": "3.10.12"
  }
 },
 "nbformat": 4,
 "nbformat_minor": 2
}
